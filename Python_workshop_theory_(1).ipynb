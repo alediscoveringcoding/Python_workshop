{
  "nbformat": 4,
  "nbformat_minor": 0,
  "metadata": {
    "colab": {
      "provenance": [],
      "include_colab_link": true
    },
    "kernelspec": {
      "name": "python3",
      "display_name": "Python 3"
    },
    "language_info": {
      "name": "python"
    }
  },
  "cells": [
    {
      "cell_type": "markdown",
      "metadata": {
        "id": "view-in-github",
        "colab_type": "text"
      },
      "source": [
        "<a href=\"https://colab.research.google.com/github/alediscoveringcoding/Python_workshop/blob/main/Python_workshop_theory_(1).ipynb\" target=\"_parent\"><img src=\"https://colab.research.google.com/assets/colab-badge.svg\" alt=\"Open In Colab\"/></a>"
      ]
    },
    {
      "cell_type": "markdown",
      "source": [
        "# **🐍 Python relies on objects.**\n",
        "\n",
        "It is important to remember that Python is known as an OOP programming language. This means, everything is python is considered to be an **object**. Variables, functions, even files.\n",
        "\n",
        "Here's a common FAQ in regards to this statement:\n",
        "\n"
      ],
      "metadata": {
        "id": "8SMCy72sJSlN"
      }
    },
    {
      "cell_type": "markdown",
      "source": [
        "**Q: What is an object?**\n",
        "\n",
        "A: An object is an instance of a class"
      ],
      "metadata": {
        "id": "cJ7XU9_xKhW_"
      }
    },
    {
      "cell_type": "markdown",
      "source": [
        "**Q: What is a class?**\n",
        "\n",
        "A: A class is a **user-defined type** (a blueprint) that specifies the data an **object** holds (attributes) and the **operations** it can do (methods).\n",
        "Objects created from a class are called **instances**, each with its own state following that blueprint."
      ],
      "metadata": {
        "id": "5R5FwsL2KhW_"
      }
    },
    {
      "cell_type": "markdown",
      "source": [
        "**Q: Is it important for me to learn OOP in Python early on?**\n",
        "\n",
        "A: No, but it helps in understanding the basic building blocks of python as a language better."
      ],
      "metadata": {
        "id": "wINxiwZkKhW_"
      }
    },
    {
      "cell_type": "markdown",
      "source": [
        "Now that we understand this, we can go ahead and learn about how classes and objects are used."
      ],
      "metadata": {
        "id": "1AVN9ynpKhW_"
      }
    },
    {
      "cell_type": "markdown",
      "source": [
        "### **Variable creation and commenting code**"
      ],
      "metadata": {
        "id": "5bRgKHbwxJlZ"
      }
    },
    {
      "cell_type": "code",
      "source": [],
      "metadata": {
        "id": "hhYgatd6Mgj-"
      },
      "execution_count": null,
      "outputs": []
    },
    {
      "cell_type": "code",
      "source": [
        "a = 5\n",
        "b = \"Hello world!\"\n",
        "\n",
        "print(f\"a = {a}\")\n",
        "print(f\"b = {b}\")"
      ],
      "metadata": {
        "id": "q0Y3X_eCxHKQ",
        "colab": {
          "base_uri": "https://localhost:8080/"
        },
        "outputId": "59b9f68e-7b06-49ec-b758-fdf03372861c"
      },
      "execution_count": null,
      "outputs": [
        {
          "output_type": "stream",
          "name": "stdout",
          "text": [
            "a = 5\n",
            "b = Hello world!\n"
          ]
        }
      ]
    },
    {
      "cell_type": "markdown",
      "source": [
        "In Python, we do not need to specify the data type of the object we are placing into a variable. The interpreter already knows what data type it is from the way we declare it."
      ],
      "metadata": {
        "id": "Enj-asQH2PVS"
      }
    },
    {
      "cell_type": "markdown",
      "source": [
        "Often, we need comments to help the code readability and it's a common best practice add comments throughout the code, especially (but not only) when things get more complicated:"
      ],
      "metadata": {
        "id": "KWtdRmWU2eE-"
      }
    },
    {
      "cell_type": "code",
      "source": [
        "# This is a comment and will be ignored by the interpreter\n",
        "\n",
        "# This is a string\n",
        "var1 = \"Hello\"\n",
        "\n",
        "# This is an int\n",
        "var2 = 5\n",
        "\n",
        "# This is a float\n",
        "var3 = 5.5\n"
      ],
      "metadata": {
        "id": "eh39q6NI2xQB"
      },
      "execution_count": null,
      "outputs": []
    },
    {
      "cell_type": "markdown",
      "source": [
        "If we want to see the variables, we can use the print() function and pass the variable as parameter:"
      ],
      "metadata": {
        "id": "-fT1pO7Z9Hht"
      }
    },
    {
      "cell_type": "code",
      "source": [
        "print(f\"var1 = {var1}\")\n",
        "print(f\"Type of var1: {type(var1)}\" + \"\\n\")\n",
        "\n",
        "print(f\"var2 = {var2}\")\n",
        "print(f\"Type of var2: {type(var2)}\" + \"\\n\")\n",
        "\n",
        "print(f\"var3 = {var3}\")\n",
        "print(f\"Type of var3: {type(var3)}\" + \"\\n\")"
      ],
      "metadata": {
        "id": "iE47LKzA9Tld",
        "colab": {
          "base_uri": "https://localhost:8080/"
        },
        "outputId": "84eaeecb-4d4a-403e-ff25-8e5173fffb8d"
      },
      "execution_count": null,
      "outputs": [
        {
          "output_type": "stream",
          "name": "stdout",
          "text": [
            "var1 = Hello\n",
            "Type of var1: <class 'str'>\n",
            "\n",
            "var2 = 5\n",
            "Type of var2: <class 'int'>\n",
            "\n",
            "var3 = 5.5\n",
            "Type of var3: <class 'float'>\n",
            "\n"
          ]
        }
      ]
    },
    {
      "cell_type": "markdown",
      "source": [
        "Or, we can use the print() function to display the value directly, without saving it into a variable:"
      ],
      "metadata": {
        "id": "PX7PEjs49V2c"
      }
    },
    {
      "cell_type": "code",
      "source": [
        "print(\"Hello world!\")"
      ],
      "metadata": {
        "id": "xyapSJmd9c1w",
        "colab": {
          "base_uri": "https://localhost:8080/"
        },
        "outputId": "badd3a0e-2a1d-48d8-fd56-56026100871b"
      },
      "execution_count": null,
      "outputs": [
        {
          "output_type": "stream",
          "name": "stdout",
          "text": [
            "Hello world!\n"
          ]
        }
      ]
    },
    {
      "cell_type": "markdown",
      "source": [
        "But, we can also take an input from the user and save it into a variable.\n",
        "\n",
        "**Note**: input() function always returns **string** data type."
      ],
      "metadata": {
        "id": "w9JQlIoRX1pm"
      }
    },
    {
      "cell_type": "markdown",
      "source": [
        "### **Data types: nothing but a category of objects**"
      ],
      "metadata": {
        "id": "Dihm5Ehi60Ls"
      }
    },
    {
      "cell_type": "markdown",
      "source": [
        "Data types can be thought of as **classes** that define the blueprint for creating objects."
      ],
      "metadata": {
        "id": "Nycxl6-968PP"
      }
    },
    {
      "cell_type": "markdown",
      "source": [
        "### Data Types"
      ],
      "metadata": {
        "id": "edKZi5XWLKV-"
      }
    },
    {
      "cell_type": "markdown",
      "source": [
        "The most common data types used in python, also covered in this notebook are:\n",
        "\n",
        "*   numerical: int, float\n",
        "*   string\n",
        "*   lists\n",
        "*   dict\n",
        "*   boolean\n",
        "\n",
        "In Python, data types can be classified into two categories: **mutable** and **immutable**.\n",
        "\n",
        "**Mutable**: Data types that can be changed after their creation. Examples include lists and dictionaries.\n",
        "\n",
        "**Immutable**: Data types whose content cannot be altered once they are created. Examples include strings, tuples, and sets.\n"
      ],
      "metadata": {
        "id": "BERzUPcAOieN"
      }
    },
    {
      "cell_type": "markdown",
      "source": [
        "## **Numerical data types**"
      ],
      "metadata": {
        "id": "it4mgaI8xRI9"
      }
    },
    {
      "cell_type": "markdown",
      "source": [
        "Numerical data types are: **int** and **float**."
      ],
      "metadata": {
        "id": "6ROGVBYV9j0L"
      }
    },
    {
      "cell_type": "markdown",
      "source": [
        "### **Definition**"
      ],
      "metadata": {
        "id": "TdStRPWgASy4"
      }
    },
    {
      "cell_type": "markdown",
      "source": [
        "**Integers** are defined like this:"
      ],
      "metadata": {
        "id": "XjzStzHU9qSw"
      }
    },
    {
      "cell_type": "code",
      "source": [
        "a = 5"
      ],
      "metadata": {
        "id": "aCYITMABxVFC"
      },
      "execution_count": null,
      "outputs": []
    },
    {
      "cell_type": "markdown",
      "source": [
        "While **floats** are defined this way:"
      ],
      "metadata": {
        "id": "ce9jqQOl9wxQ"
      }
    },
    {
      "cell_type": "code",
      "source": [
        "b = 5.5\n",
        "c = 5.0"
      ],
      "metadata": {
        "id": "cjPkn7KC921L"
      },
      "execution_count": null,
      "outputs": []
    },
    {
      "cell_type": "markdown",
      "source": [
        "### **Operators**"
      ],
      "metadata": {
        "id": "zf-i0tPAAYB4"
      }
    },
    {
      "cell_type": "markdown",
      "source": [
        "Now, let's discuss the **capabilities** of the **int** and **float** classes:"
      ],
      "metadata": {
        "id": "Oohlrmkz97id"
      }
    },
    {
      "cell_type": "markdown",
      "source": [
        "First of all, we can use **arithmetic operators** on these two types, even if one is int and the other one is float. The result will be float if either of them is float:"
      ],
      "metadata": {
        "id": "8VjwmLTZ-RXr"
      }
    },
    {
      "cell_type": "markdown",
      "source": [
        "**Addition and substraction**"
      ],
      "metadata": {
        "id": "MtkFbaM1-eBO"
      }
    },
    {
      "cell_type": "code",
      "source": [
        "a = 5\n",
        "b = 5.5\n",
        "print(a + b)\n",
        "print(a - b)"
      ],
      "metadata": {
        "id": "xVLrSsKc-ZVk",
        "colab": {
          "base_uri": "https://localhost:8080/"
        },
        "outputId": "ddab413c-298d-4665-be1c-0815ab0cb4bf"
      },
      "execution_count": null,
      "outputs": [
        {
          "output_type": "stream",
          "name": "stdout",
          "text": [
            "10.5\n",
            "-0.5\n"
          ]
        }
      ]
    },
    {
      "cell_type": "markdown",
      "source": [
        "**Multiplication and division**"
      ],
      "metadata": {
        "id": "vEreSK5r-hGN"
      }
    },
    {
      "cell_type": "code",
      "source": [
        "print(a * b)\n",
        "print(a / b)"
      ],
      "metadata": {
        "id": "CFMpF7YW-gy1",
        "colab": {
          "base_uri": "https://localhost:8080/"
        },
        "outputId": "9e103e9f-3cd5-4a74-9dc0-573ee5cf49e5"
      },
      "execution_count": null,
      "outputs": [
        {
          "output_type": "stream",
          "name": "stdout",
          "text": [
            "27.5\n",
            "0.9090909090909091\n"
          ]
        }
      ]
    },
    {
      "cell_type": "markdown",
      "source": [
        "If we want the result to be integer for the division, we can use the following operator:"
      ],
      "metadata": {
        "id": "A3X7ioeM-7td"
      }
    },
    {
      "cell_type": "code",
      "source": [
        "print(a // b)"
      ],
      "metadata": {
        "id": "TkUSAbSe_BzD",
        "colab": {
          "base_uri": "https://localhost:8080/"
        },
        "outputId": "8384630d-000e-45cd-bccd-9e883befbb9d"
      },
      "execution_count": null,
      "outputs": [
        {
          "output_type": "stream",
          "name": "stdout",
          "text": [
            "0.0\n"
          ]
        }
      ]
    },
    {
      "cell_type": "markdown",
      "source": [
        "**Power**"
      ],
      "metadata": {
        "id": "vFfSvFdi-0ai"
      }
    },
    {
      "cell_type": "code",
      "source": [
        "print(a ** 2)\n",
        "print(a ** 5)"
      ],
      "metadata": {
        "id": "sbkKv9Kz-3nv",
        "colab": {
          "base_uri": "https://localhost:8080/"
        },
        "outputId": "52cbe2ae-65c1-40f1-cf19-138a198da3ad"
      },
      "execution_count": null,
      "outputs": [
        {
          "output_type": "stream",
          "name": "stdout",
          "text": [
            "25\n",
            "3125\n"
          ]
        }
      ]
    },
    {
      "cell_type": "markdown",
      "source": [
        "Then, we can use **relational operators** on objects of numerical types:"
      ],
      "metadata": {
        "id": "yzunNZ2R_QgB"
      }
    },
    {
      "cell_type": "markdown",
      "source": [
        "Relational operators always output True or False. We will get into detail when we get to boolean data types."
      ],
      "metadata": {
        "id": "ZADikWvB_am3"
      }
    },
    {
      "cell_type": "markdown",
      "source": [
        "**Equal to** (==) and **not equal to** (!=)"
      ],
      "metadata": {
        "id": "6BXduFQ2_qGL"
      }
    },
    {
      "cell_type": "code",
      "source": [
        "print(a == b)"
      ],
      "metadata": {
        "id": "ePAJPf8f_WwZ",
        "colab": {
          "base_uri": "https://localhost:8080/"
        },
        "outputId": "c6a8ef77-e02d-4bac-f77b-30fe6f58f6c2"
      },
      "execution_count": null,
      "outputs": [
        {
          "output_type": "stream",
          "name": "stdout",
          "text": [
            "False\n"
          ]
        }
      ]
    },
    {
      "cell_type": "code",
      "source": [
        "print(a != b)"
      ],
      "metadata": {
        "id": "0vpRKbbz_u_u",
        "colab": {
          "base_uri": "https://localhost:8080/"
        },
        "outputId": "1ba6de95-bc61-4201-9359-cc733f15c7c6"
      },
      "execution_count": null,
      "outputs": [
        {
          "output_type": "stream",
          "name": "stdout",
          "text": [
            "True\n"
          ]
        }
      ]
    },
    {
      "cell_type": "markdown",
      "source": [
        "**Greater than (>), smaller than (<), greater or equal (>=), smaller or equal (<=)**"
      ],
      "metadata": {
        "id": "d4Xn2gU6_zyW"
      }
    },
    {
      "cell_type": "code",
      "source": [
        "print(a > b)"
      ],
      "metadata": {
        "id": "EXLYMhLK__Gm",
        "colab": {
          "base_uri": "https://localhost:8080/"
        },
        "outputId": "0e2c9a8e-3eb1-4755-c2fc-507396dc2ab2"
      },
      "execution_count": null,
      "outputs": [
        {
          "output_type": "stream",
          "name": "stdout",
          "text": [
            "False\n"
          ]
        }
      ]
    },
    {
      "cell_type": "code",
      "source": [
        "print(a < b)"
      ],
      "metadata": {
        "id": "7VOs_BUiABMW",
        "colab": {
          "base_uri": "https://localhost:8080/"
        },
        "outputId": "84d6e9a3-27d6-4729-d29c-5462127217f4"
      },
      "execution_count": null,
      "outputs": [
        {
          "output_type": "stream",
          "name": "stdout",
          "text": [
            "True\n"
          ]
        }
      ]
    },
    {
      "cell_type": "code",
      "source": [
        "print(a >= b)"
      ],
      "metadata": {
        "id": "_hwvC5ANACxI",
        "colab": {
          "base_uri": "https://localhost:8080/"
        },
        "outputId": "22b5e406-568a-4f78-8d90-80fc4a85dca2"
      },
      "execution_count": null,
      "outputs": [
        {
          "output_type": "stream",
          "name": "stdout",
          "text": [
            "False\n"
          ]
        }
      ]
    },
    {
      "cell_type": "code",
      "source": [
        "print(a <= b)"
      ],
      "metadata": {
        "id": "SXclWrskAEq5",
        "colab": {
          "base_uri": "https://localhost:8080/"
        },
        "outputId": "3c73eced-5c73-4dd7-ae9c-4098a32b4346"
      },
      "execution_count": null,
      "outputs": [
        {
          "output_type": "stream",
          "name": "stdout",
          "text": [
            "True\n"
          ]
        }
      ]
    },
    {
      "cell_type": "markdown",
      "source": [
        "## **Strings**"
      ],
      "metadata": {
        "id": "BbS9iQnQxVTy"
      }
    },
    {
      "cell_type": "markdown",
      "source": [
        "### **Definition**\n",
        "\n",
        "* **Strings** represent text in Python — they’re sequences of characters written next to each other.\n",
        "\n",
        "* Strings are **immutable**, it means that once you create a string, you cannot modify its contents. You can't change individual characters or parts of the string directly.\n",
        "\n",
        "* Imagine a string is like a permanent marker writing on paper - once it's written, you can't erase or change individual letters. If you want different text, you need to write on a new piece of paper.\n",
        "\n",
        "* They can be defined multiple ways:\n",
        "\n",
        "\n"
      ],
      "metadata": {
        "id": "F8tNuXzKAiUI"
      }
    },
    {
      "cell_type": "code",
      "source": [
        "# Let's create a string\n",
        "name = \"Alice\"\n",
        "print(f\"Original: {name}\")\n",
        "print(f\"ID of 'name': {id(name)}\")  # This shows the memory location\n",
        "\n",
        "# Now let's try to \"change\" it\n",
        "name = \"Bob\"\n",
        "print(f\"After 'change': {name}\")\n",
        "print(f\"ID of 'name': {id(name)}\")  # Notice this is a DIFFERENT memory location!\n",
        "\n",
        "# What really happened:\n",
        "#  We did NOT change \"Alice\" to \"Bob\"\n",
        "#  We created a NEW string \"Bob\" and made 'name' point to it\n",
        "#  The original \"Alice\" still exists in memory (until garbage collected)"
      ],
      "metadata": {
        "id": "8GhNfk1lNm7S",
        "colab": {
          "base_uri": "https://localhost:8080/"
        },
        "outputId": "b5fb0437-3c1a-45fa-ed86-759a069695ef"
      },
      "execution_count": null,
      "outputs": [
        {
          "output_type": "stream",
          "name": "stdout",
          "text": [
            "Original: Alice\n",
            "ID of 'name': 139758754321392\n",
            "After 'change': Bob\n",
            "ID of 'name': 139758754330608\n"
          ]
        }
      ]
    },
    {
      "cell_type": "code",
      "source": [
        "# Using \"\"\n",
        "a = \"Coffee!\"\n",
        "\n",
        "# Using ''\n",
        "b = 'Coffee!'\n",
        "\n",
        "# Using \"\"\"\"\"\" - multi-line strings\n",
        "c = \"\"\"Hello\n",
        "world\n",
        "\"\"\"\n",
        "print(a + \"\\n\")\n",
        "print(b + \"\\n\")\n",
        "print(c + \"\\n\")"
      ],
      "metadata": {
        "id": "gKneMD8mxXGC",
        "colab": {
          "base_uri": "https://localhost:8080/"
        },
        "outputId": "da52e6ae-ffc8-443f-f9fd-a3a9304e5949"
      },
      "execution_count": null,
      "outputs": [
        {
          "output_type": "stream",
          "name": "stdout",
          "text": [
            "Coffee!\n",
            "\n",
            "Coffee!\n",
            "\n",
            "Hello\n",
            "world\n",
            "\n",
            "\n"
          ]
        }
      ]
    },
    {
      "cell_type": "markdown",
      "source": [
        "### **Escape characters**"
      ],
      "metadata": {
        "id": "DKGUfVWvBfSd"
      }
    },
    {
      "cell_type": "markdown",
      "source": [
        "We have to get used to the fact that strings are very flexible and have a lot of capabilities. **Escape characters** are used to manipulate the string to obtain the following things:"
      ],
      "metadata": {
        "id": "n_RgOXibBqsY"
      }
    },
    {
      "cell_type": "markdown",
      "source": [
        "**Enter**"
      ],
      "metadata": {
        "id": "nVLIFL4BB4Yv"
      }
    },
    {
      "cell_type": "code",
      "source": [
        "print(\"Coffee\\ncappuccino\")"
      ],
      "metadata": {
        "colab": {
          "base_uri": "https://localhost:8080/"
        },
        "id": "FZplkeGUBiHn",
        "outputId": "d538da75-eb35-4703-9815-1b33a600a485"
      },
      "execution_count": null,
      "outputs": [
        {
          "output_type": "stream",
          "name": "stdout",
          "text": [
            "Coffee\n",
            "cappuccino\n"
          ]
        }
      ]
    },
    {
      "cell_type": "markdown",
      "source": [
        "**Tab**"
      ],
      "metadata": {
        "id": "gntF8CsOB7e2"
      }
    },
    {
      "cell_type": "code",
      "source": [
        "print(\"Coffee\\t\\t..5$\")"
      ],
      "metadata": {
        "id": "jER9d4p5Bp4r",
        "colab": {
          "base_uri": "https://localhost:8080/"
        },
        "outputId": "82152020-2c6f-41a2-a1f6-cb4753217da9"
      },
      "execution_count": null,
      "outputs": [
        {
          "output_type": "stream",
          "name": "stdout",
          "text": [
            "Coffee\t\t..5$\n"
          ]
        }
      ]
    },
    {
      "cell_type": "markdown",
      "source": [
        "**Backspace**"
      ],
      "metadata": {
        "id": "FsDErnScCATt"
      }
    },
    {
      "cell_type": "code",
      "source": [
        "print(\"Coffee$\\b\")"
      ],
      "metadata": {
        "id": "-OIwuFdNCCK8",
        "colab": {
          "base_uri": "https://localhost:8080/"
        },
        "outputId": "4f60afe9-b318-415c-c976-9dbc0986887d"
      },
      "execution_count": null,
      "outputs": [
        {
          "output_type": "stream",
          "name": "stdout",
          "text": [
            "Coffee$\b\n"
          ]
        }
      ]
    },
    {
      "cell_type": "markdown",
      "source": [
        "### **F-strings**\n",
        "\n",
        "Strings are often used to print out the results in a fashionable manner. For example, we want to calculate the sum of two numbers, and we want to print the result nicely. We can use the following methods:"
      ],
      "metadata": {
        "id": "SAaADskjCG7P"
      }
    },
    {
      "cell_type": "code",
      "source": [
        "a = 5\n",
        "b = 5.5\n",
        "\n",
        "sum = a + b"
      ],
      "metadata": {
        "id": "4q7anRNsCjf4"
      },
      "execution_count": null,
      "outputs": []
    },
    {
      "cell_type": "code",
      "source": [
        "print(f\"The total cost of you order is: {sum}\")"
      ],
      "metadata": {
        "colab": {
          "base_uri": "https://localhost:8080/"
        },
        "id": "EWPPm8R3Ch_L",
        "outputId": "6d4aba72-18cc-4910-b7cc-b28bd067420e"
      },
      "execution_count": null,
      "outputs": [
        {
          "output_type": "stream",
          "name": "stdout",
          "text": [
            "The total cost of you order is: 10.5\n"
          ]
        }
      ]
    },
    {
      "cell_type": "markdown",
      "source": [
        "### **Operations**"
      ],
      "metadata": {
        "id": "ZXa1gOiJKZ0Y"
      }
    },
    {
      "cell_type": "markdown",
      "source": [
        "**String concatenation**"
      ],
      "metadata": {
        "id": "juCsTUuAKdWw"
      }
    },
    {
      "cell_type": "code",
      "source": [
        "\"Coffee\" + \" \" + \"is\" + \" \" + \"good\""
      ],
      "metadata": {
        "id": "VuYXWlpTKinq",
        "colab": {
          "base_uri": "https://localhost:8080/",
          "height": 36
        },
        "outputId": "bd65d21e-18aa-45f3-f241-28c60f8ca311"
      },
      "execution_count": null,
      "outputs": [
        {
          "output_type": "execute_result",
          "data": {
            "text/plain": [
              "'Coffee is good'"
            ],
            "application/vnd.google.colaboratory.intrinsic+json": {
              "type": "string"
            }
          },
          "metadata": {},
          "execution_count": 7
        }
      ]
    },
    {
      "cell_type": "markdown",
      "source": [
        "**String multiplication**"
      ],
      "metadata": {
        "id": "e9-8maayKyFq"
      }
    },
    {
      "cell_type": "code",
      "source": [
        "\"Coffee\" * 5"
      ],
      "metadata": {
        "colab": {
          "base_uri": "https://localhost:8080/",
          "height": 36
        },
        "id": "-JaYl-gsK3Xx",
        "outputId": "85554e0e-104c-4a67-8618-e05ececad190"
      },
      "execution_count": null,
      "outputs": [
        {
          "output_type": "execute_result",
          "data": {
            "text/plain": [
              "'CoffeeCoffeeCoffeeCoffeeCoffee'"
            ],
            "application/vnd.google.colaboratory.intrinsic+json": {
              "type": "string"
            }
          },
          "metadata": {},
          "execution_count": 8
        }
      ]
    },
    {
      "cell_type": "markdown",
      "source": [
        "**Slicing a string**"
      ],
      "metadata": {
        "id": "QczqXkO4Lb6H"
      }
    },
    {
      "cell_type": "code",
      "source": [
        "a = \"Cappuccino\"\n",
        "print(a[2:4] + a[5:7])"
      ],
      "metadata": {
        "id": "tGHcMd-nLd6U",
        "colab": {
          "base_uri": "https://localhost:8080/"
        },
        "outputId": "03080afb-b66c-406b-a94d-c196c60399e9"
      },
      "execution_count": null,
      "outputs": [
        {
          "output_type": "stream",
          "name": "stdout",
          "text": [
            "ppcc\n"
          ]
        }
      ]
    },
    {
      "cell_type": "markdown",
      "source": [
        "**Reverting a string**"
      ],
      "metadata": {
        "id": "LtiVDOOpK7xz"
      }
    },
    {
      "cell_type": "code",
      "source": [
        "print(a[::-1])"
      ],
      "metadata": {
        "id": "i7Tu2MnqLVtg",
        "colab": {
          "base_uri": "https://localhost:8080/"
        },
        "outputId": "d0279307-e228-46ad-9d75-0bf43b05fc2a"
      },
      "execution_count": null,
      "outputs": [
        {
          "output_type": "stream",
          "name": "stdout",
          "text": [
            "!eeffoC\n"
          ]
        }
      ]
    },
    {
      "cell_type": "markdown",
      "source": [
        "### **Methods**"
      ],
      "metadata": {
        "id": "mCe8qudmC7tG"
      }
    },
    {
      "cell_type": "markdown",
      "source": [
        "We recall that the data types define how objects of that certain types behave, and what capabilities they have. These capabilities also include methods, that are specific to data types. here are some commonly used methods for strings:"
      ],
      "metadata": {
        "id": "pfR2II5IC_QI"
      }
    },
    {
      "cell_type": "code",
      "source": [
        "a = \"  Hello world!  \""
      ],
      "metadata": {
        "id": "7JOuSfngM1AI"
      },
      "execution_count": null,
      "outputs": []
    },
    {
      "cell_type": "markdown",
      "source": [
        "**count**(*substring*)\n",
        "\n",
        "- counts how many occurences of **substring** there are in the string"
      ],
      "metadata": {
        "id": "BxknkpOKLzV0"
      }
    },
    {
      "cell_type": "code",
      "source": [
        "print(a.count(\"l\"))"
      ],
      "metadata": {
        "id": "0xZiyRMvCNTV",
        "colab": {
          "base_uri": "https://localhost:8080/"
        },
        "outputId": "0789bbdf-4b3c-4b5b-f6fd-ef1e5f52103d"
      },
      "execution_count": null,
      "outputs": [
        {
          "output_type": "stream",
          "name": "stdout",
          "text": [
            "3\n"
          ]
        }
      ]
    },
    {
      "cell_type": "markdown",
      "source": [
        "**lower()** and **upper()**"
      ],
      "metadata": {
        "id": "OF8OG-gmNAz2"
      }
    },
    {
      "cell_type": "code",
      "source": [
        "print(a.lower())\n",
        "print(a.upper())"
      ],
      "metadata": {
        "id": "5qcvJuj8NILD",
        "colab": {
          "base_uri": "https://localhost:8080/"
        },
        "outputId": "760354ab-2425-4e13-e52e-023b579a8a54"
      },
      "execution_count": null,
      "outputs": [
        {
          "output_type": "stream",
          "name": "stdout",
          "text": [
            "  hello world!  \n",
            "  HELLO WORLD!  \n"
          ]
        }
      ]
    },
    {
      "cell_type": "markdown",
      "source": [
        "Multiple string methods are available here in the official python documentation: [String methods](https://docs.python.org/3/library/stdtypes.html#string-methods)"
      ],
      "metadata": {
        "id": "cSZJLU4wNe9q"
      }
    },
    {
      "cell_type": "markdown",
      "source": [
        "## **Lists**"
      ],
      "metadata": {
        "id": "i9-Wm45_xXuu"
      }
    },
    {
      "cell_type": "markdown",
      "source": [
        "* Lists are an ordered iterable data type that represents a collection of various objects.\n",
        "* Lists can contain multiple objects of different data types.\n",
        "* They are also considered a mutable data type, meaning their structure changes.\n",
        "\n"
      ],
      "metadata": {
        "id": "_W9F6PSVN47y"
      }
    },
    {
      "cell_type": "code",
      "source": [
        "# Lists: Ordered, Iterable, and MUTABLE Example\n",
        "\n",
        "# 1. ORDERED - maintains sequence\n",
        "my_list = [\"apple\", \"banana\", \"cherry\"]\n",
        "list1 = my_list\n"
      ],
      "metadata": {
        "id": "qF4cAeo6PNBN"
      },
      "execution_count": null,
      "outputs": []
    },
    {
      "cell_type": "markdown",
      "source": [
        "### **Definition**"
      ],
      "metadata": {
        "id": "fk-JVX3DOITg"
      }
    },
    {
      "cell_type": "markdown",
      "source": [
        "Let's pretend we have a list of seasonal prices for cappuccino:"
      ],
      "metadata": {
        "id": "kJdDuIPfQX6f"
      }
    },
    {
      "cell_type": "code",
      "source": [
        "a = [\"cappuccino\", 5, 5.5]\n",
        "print(a)"
      ],
      "metadata": {
        "id": "3yGJTU7JxbLn",
        "colab": {
          "base_uri": "https://localhost:8080/"
        },
        "outputId": "93fada0b-772a-4de9-ccba-2d0c4a129297"
      },
      "execution_count": null,
      "outputs": [
        {
          "output_type": "stream",
          "name": "stdout",
          "text": [
            "['cappuccino', 5, 5.5]\n"
          ]
        }
      ]
    },
    {
      "cell_type": "markdown",
      "source": [
        "Lists can contain other lists as well. This method is commonly used in **matrices**. But for our example, we can make a list of items in our menu:"
      ],
      "metadata": {
        "id": "Qtr2wdIvPTHh"
      }
    },
    {
      "cell_type": "code",
      "source": [
        "menu = [[\"cappuccino\", 5, 5.5], [\"Pumpkin spice latte\", 7, 8], [\"Latte macchiato\", 4, 6]]"
      ],
      "metadata": {
        "id": "SGSm2wVWPZif"
      },
      "execution_count": null,
      "outputs": []
    },
    {
      "cell_type": "markdown",
      "source": [
        "### **Operations**"
      ],
      "metadata": {
        "id": "4hQc9Bt6OTLw"
      }
    },
    {
      "cell_type": "markdown",
      "source": [
        "**Indexing**\n",
        "\n",
        "As lists are **ordered**, it means that each element in the list has its own position, starting from 0.\n",
        "\n",
        "Extracting the elements are done using the following syntax, and mentioning their position index in the list."
      ],
      "metadata": {
        "id": "YqgcNdQPOX_C"
      }
    },
    {
      "cell_type": "code",
      "source": [
        "print(f\"The {a[0]} costs {a[1]}$\")"
      ],
      "metadata": {
        "id": "v9FZ-UWoOXH4",
        "colab": {
          "base_uri": "https://localhost:8080/"
        },
        "outputId": "382e7ae5-b4c1-4a77-eaa7-31cb99377dc1"
      },
      "execution_count": null,
      "outputs": [
        {
          "output_type": "stream",
          "name": "stdout",
          "text": [
            "The cappuccino costs 5$\n"
          ]
        }
      ]
    },
    {
      "cell_type": "code",
      "source": [
        "print(f\"The {menu[1][0]} costs {menu[1][1]}$\")"
      ],
      "metadata": {
        "colab": {
          "base_uri": "https://localhost:8080/"
        },
        "id": "s0H4L9q7PiN7",
        "outputId": "251eee14-df42-44b2-e529-d60e60e8af81"
      },
      "execution_count": null,
      "outputs": [
        {
          "output_type": "stream",
          "name": "stdout",
          "text": [
            "The Pumpkin spice latte costs 7$\n"
          ]
        }
      ]
    },
    {
      "cell_type": "markdown",
      "source": [
        "Just as in strings (which, by the way, are also an iterable data type), we can **slice** the list:"
      ],
      "metadata": {
        "id": "1Auk2mvzOuzJ"
      }
    },
    {
      "cell_type": "code",
      "source": [
        "print(a[1:3])"
      ],
      "metadata": {
        "colab": {
          "base_uri": "https://localhost:8080/"
        },
        "id": "bnF8vHEJOtHC",
        "outputId": "b9df271b-ba1b-441f-9b9e-00b2ceee3078"
      },
      "execution_count": null,
      "outputs": [
        {
          "output_type": "stream",
          "name": "stdout",
          "text": [
            "[5, 5.5]\n"
          ]
        }
      ]
    },
    {
      "cell_type": "markdown",
      "source": [
        "**Adding two lists**"
      ],
      "metadata": {
        "id": "HFzZw9VzO_Vo"
      }
    },
    {
      "cell_type": "code",
      "source": [
        "b = [\"hot chocolate\", 5, 5.5]"
      ],
      "metadata": {
        "id": "YJY1rnc-PBYu"
      },
      "execution_count": null,
      "outputs": []
    },
    {
      "cell_type": "code",
      "source": [
        "c = a + b\n",
        "print(c)"
      ],
      "metadata": {
        "colab": {
          "base_uri": "https://localhost:8080/"
        },
        "id": "V1u43V-GPD6p",
        "outputId": "0062e0c7-5ee5-4a99-d881-dfa282a71471"
      },
      "execution_count": null,
      "outputs": [
        {
          "output_type": "stream",
          "name": "stdout",
          "text": [
            "['cappuccino', 5, 5.5, 'hot chocolate', 5, 5.5]\n"
          ]
        }
      ]
    },
    {
      "cell_type": "markdown",
      "source": [
        "### **Methods**"
      ],
      "metadata": {
        "id": "vyEQUBGgPJ99"
      }
    },
    {
      "cell_type": "markdown",
      "source": [
        "**Adding elements to the list**"
      ],
      "metadata": {
        "id": "hIiqOTHHPrqW"
      }
    },
    {
      "cell_type": "code",
      "source": [
        "a.append(5)\n",
        "print(a)"
      ],
      "metadata": {
        "colab": {
          "base_uri": "https://localhost:8080/"
        },
        "id": "2OBVjtk_PuSG",
        "outputId": "b0bf5547-8c3d-46f0-8488-4fd1ce6e823e"
      },
      "execution_count": null,
      "outputs": [
        {
          "output_type": "stream",
          "name": "stdout",
          "text": [
            "['cappuccino', 5, 5.5, 5, 5]\n"
          ]
        }
      ]
    },
    {
      "cell_type": "markdown",
      "source": [
        "**Removing elements from the list**"
      ],
      "metadata": {
        "id": "g9LNsJ_TPyUm"
      }
    },
    {
      "cell_type": "code",
      "source": [
        "a.remove(5)\n",
        "print(a)"
      ],
      "metadata": {
        "colab": {
          "base_uri": "https://localhost:8080/"
        },
        "id": "hP-eSUp3P1JK",
        "outputId": "f0885480-42a6-4339-a3ff-ca75039d0017"
      },
      "execution_count": null,
      "outputs": [
        {
          "output_type": "stream",
          "name": "stdout",
          "text": [
            "['cappuccino', 5.5, 5]\n"
          ]
        }
      ]
    },
    {
      "cell_type": "markdown",
      "source": [
        "**count()**"
      ],
      "metadata": {
        "id": "Ar3HqWAWQhEN"
      }
    },
    {
      "cell_type": "code",
      "source": [
        "print(a.count(5))"
      ],
      "metadata": {
        "colab": {
          "base_uri": "https://localhost:8080/"
        },
        "id": "xDHI0XTiRm2P",
        "outputId": "8aa79993-ee1b-4c9b-b7fe-8f41e6e13e60"
      },
      "execution_count": null,
      "outputs": [
        {
          "output_type": "stream",
          "name": "stdout",
          "text": [
            "1\n"
          ]
        }
      ]
    },
    {
      "cell_type": "markdown",
      "source": [
        "**insert()**"
      ],
      "metadata": {
        "id": "ajNxZgzKifCZ"
      }
    },
    {
      "cell_type": "code",
      "source": [
        "a.insert(1, \"hot chocolate\")\n",
        "print(a)"
      ],
      "metadata": {
        "colab": {
          "base_uri": "https://localhost:8080/"
        },
        "id": "2SWRFllpigpG",
        "outputId": "dc29cf54-07cf-436a-a01d-090385ce2356"
      },
      "execution_count": null,
      "outputs": [
        {
          "output_type": "stream",
          "name": "stdout",
          "text": [
            "None\n",
            "['cappuccino', 'hot chocolate', 'hot chocolate', 5, 5.5]\n"
          ]
        }
      ]
    },
    {
      "cell_type": "markdown",
      "source": [
        "Here are some more list methods to check out: [List Methods](https://docs.python.org/3/tutorial/datastructures.html#more-on-lists)"
      ],
      "metadata": {
        "id": "D2MvDMumRzR5"
      }
    },
    {
      "cell_type": "markdown",
      "source": [
        "## Tuples"
      ],
      "metadata": {
        "id": "64BGcXQxQ3uI"
      }
    },
    {
      "cell_type": "markdown",
      "source": [
        "A tuple in Python is an ordered, immutable collection of elements. This means:\n",
        "\n",
        "* **Ordered** → the elements have a fixed position and keep their order.\n",
        "\n",
        "* **Immutable** → once a tuple is created, its elements cannot be changed, added, or removed.\n",
        "\n",
        "* Tuples can contain elements of different data types: integers, strings, floats, lists, other tuples, etc."
      ],
      "metadata": {
        "id": "0CFRdK86Q-Iw"
      }
    },
    {
      "cell_type": "code",
      "source": [
        "# Creating a tuple\n",
        "my_tuple = (1, 2, 3)\n",
        "mixed_tuple = (1, \"hello\", 3.5, [4, 5])\n",
        "single_tuple = (5,)  # A single-element tuple needs a comma!\n",
        "empty_tuple = ()\n"
      ],
      "metadata": {
        "id": "_DBflQ1qR22s"
      },
      "execution_count": null,
      "outputs": []
    },
    {
      "cell_type": "code",
      "source": [
        "my_tuple = (10, 20, 30, 40)\n",
        "print(my_tuple[0])    # 10 (first element)\n",
        "print(my_tuple[-1])   # 40 (last element)\n",
        "print(my_tuple[1:3])  # (20, 30) (slicing returns another tuple)\n"
      ],
      "metadata": {
        "id": "pFTKe2auR7Ow"
      },
      "execution_count": null,
      "outputs": []
    },
    {
      "cell_type": "markdown",
      "source": [
        "| Operation     | Example                 | Result               |\n",
        "| ------------- | ----------------------- | -------------------- |\n",
        "| Concatenation | `(1, 2) + (3, 4)`       | `(1, 2, 3, 4)`       |\n",
        "| Repetition    | `(\"hi\",) * 3`           | `(\"hi\", \"hi\", \"hi\")` |\n",
        "| Membership    | `3 in (1, 2, 3)`        | `True`               |\n",
        "| Length        | `len((1, 2, 3))`        | `3`                  |\n",
        "| Count         | `(1, 2, 2).count(2)`    | `2`                  |\n",
        "| Index         | `(5, 10, 15).index(10)` | `1`                  |\n"
      ],
      "metadata": {
        "id": "p4fKuZ5vR7-0"
      }
    },
    {
      "cell_type": "markdown",
      "source": [
        "Why use tuples?\n",
        "\n",
        "* They are faster than lists (since they are immutable).\n",
        "\n",
        "* Useful for fixed collections (e.g., coordinates, RGB colors).\n",
        "\n",
        "* Can be used as dictionary keys (lists cannot)."
      ],
      "metadata": {
        "id": "79-K8ENNSLBB"
      }
    },
    {
      "cell_type": "markdown",
      "source": [
        "| Feature                           | **Tuple**                                       | **List**                                                   |\n",
        "| --------------------------------- | ----------------------------------------------- | ---------------------------------------------------------- |\n",
        "| **Syntax**                        | `(1, 2, 3)`                                     | `[1, 2, 3]`                                                |\n",
        "| **Mutable?**                      | ❌ No (immutable — cannot change after creation) | ✅ Yes (can add, remove, modify elements)                   |\n",
        "| **Ordered?**                      | ✅ Yes                                           | ✅ Yes                                                      |\n",
        "| **Indexing & slicing**            | ✅ Yes                                           | ✅ Yes                                                      |\n",
        "| **Can contain mixed data types?** | ✅ Yes                                           | ✅ Yes                                                      |\n",
        "| **Performance**                   | Faster (due to immutability)                    | Slower compared to tuples                                  |\n",
        "| **Memory usage**                  | Uses less memory                                | Uses more memory                                           |\n",
        "| **Can be dictionary keys?**       | ✅ Yes (if all elements are immutable)           | ❌ No                                                       |\n",
        "| **Methods available**             | Few (`count`, `index`)                          | Many (`append`, `extend`, `insert`, `remove`, `pop`, etc.) |\n",
        "| **Best used for**                 | Fixed collections of items                      | Collections that change over time                          |\n"
      ],
      "metadata": {
        "id": "KALVYiU2Syvp"
      }
    },
    {
      "cell_type": "markdown",
      "source": [
        "##Sets"
      ],
      "metadata": {
        "id": "hnkqVcZMS2eI"
      }
    },
    {
      "cell_type": "markdown",
      "source": [
        "A set in Python is an unordered, mutable collection of unique elements.\n",
        "\n",
        "* **Unordered** → no fixed position or index.\n",
        "\n",
        "* **Mutable** → you can add or remove elements after creation.\n",
        "\n",
        "* **Unique elements**→ duplicates are automatically removed.\n",
        "\n",
        "You can create a set by using curly braces {} or the set() constructor.\n"
      ],
      "metadata": {
        "id": "IwjrqhgmTp41"
      }
    },
    {
      "cell_type": "code",
      "source": [
        "my_set = {1, 2, 3, 4}\n",
        "my_set2 = set(1,2,3,4)\n",
        "print(my_set)  # Output: {1, 2, 3, 4}\n",
        "print(my_set2)"
      ],
      "metadata": {
        "id": "dISNd1iRXvh6"
      },
      "execution_count": null,
      "outputs": []
    },
    {
      "cell_type": "markdown",
      "source": [
        "If you try to create a set with duplicates, it will automatically remove them:"
      ],
      "metadata": {
        "id": "B6tmPCvkXxgS"
      }
    },
    {
      "cell_type": "code",
      "source": [
        "my_set = {1, 2, 2, 3, 4, 4}\n",
        "print(my_set)  # Output: {1, 2, 3, 4}\n"
      ],
      "metadata": {
        "id": "YqPZ7XnQYU2c"
      },
      "execution_count": null,
      "outputs": []
    },
    {
      "cell_type": "markdown",
      "source": [
        "**Adding Elements:**\n",
        "You can add elements using the .add() method.\n",
        "\n"
      ],
      "metadata": {
        "id": "z5cIc5dFTpwI"
      }
    },
    {
      "cell_type": "code",
      "source": [
        "my_set = {1, 2, 3}ǰ\n",
        "my_set.add(4)  # Adds 4 to the set\n",
        "print(my_set)  # Output: {1, 2, 3, 4}"
      ],
      "metadata": {
        "id": "YfFlxRSVY4pV"
      },
      "execution_count": null,
      "outputs": []
    },
    {
      "cell_type": "markdown",
      "source": [
        "**Removing Elements:**\n",
        "You can remove elements using .remove() (will raise an error if the element does not exist) or .discard() (won't raise an error if the element does not exist).\n"
      ],
      "metadata": {
        "id": "sxlDIeOvZX8P"
      }
    },
    {
      "cell_type": "code",
      "source": [
        "\n",
        "my_set = {1, 2, 3, 4}\n",
        "my_set.remove(3)  # Removes 3\n",
        "print(my_set)  # Output: {1, 2, 4}"
      ],
      "metadata": {
        "id": "J-8x1ErCZk1Q",
        "colab": {
          "base_uri": "https://localhost:8080/"
        },
        "outputId": "6a93094e-522a-4287-8294-99826657cb1c"
      },
      "execution_count": null,
      "outputs": [
        {
          "output_type": "stream",
          "name": "stdout",
          "text": [
            "{1, 2, 4}\n"
          ]
        }
      ]
    },
    {
      "cell_type": "markdown",
      "source": [
        "Using discard, it won't raise an error if the element is not present"
      ],
      "metadata": {
        "id": "jAHB5VNeZrbv"
      }
    },
    {
      "cell_type": "code",
      "source": [
        "my_set.discard(4)  # Does nothing since 5 is not in the set\n",
        "print(my_set)  # Output: {1, 2, 4}"
      ],
      "metadata": {
        "id": "5_bhz-MsZ10k",
        "colab": {
          "base_uri": "https://localhost:8080/"
        },
        "outputId": "be79a4bc-62cc-4360-ee25-b82579e86fab"
      },
      "execution_count": null,
      "outputs": [
        {
          "output_type": "stream",
          "name": "stdout",
          "text": [
            "{1, 2}\n"
          ]
        }
      ]
    },
    {
      "cell_type": "markdown",
      "source": [
        "**Iterating Over a Set:**\n",
        "Since sets are unordered, the order in which elements are iterated may vary each time. You can use a for loop to iterate over a set."
      ],
      "metadata": {
        "id": "ytpnko_sZ3DO"
      }
    },
    {
      "cell_type": "code",
      "source": [
        "my_set = {1, 2, 3, 4}\n",
        "\n",
        "# Iterating over the set\n",
        "for element in my_set:\n",
        "    print(element)"
      ],
      "metadata": {
        "id": "pw__HjxBaAbK",
        "colab": {
          "base_uri": "https://localhost:8080/"
        },
        "outputId": "2ade9928-fd77-43be-a182-f6ba65ec29b8"
      },
      "execution_count": null,
      "outputs": [
        {
          "output_type": "stream",
          "name": "stdout",
          "text": [
            "1\n",
            "2\n",
            "3\n",
            "4\n"
          ]
        }
      ]
    },
    {
      "cell_type": "markdown",
      "source": [
        "## **Dictionaries**"
      ],
      "metadata": {
        "id": "sXiN69LBxbZU"
      }
    },
    {
      "cell_type": "markdown",
      "source": [
        "**Dictionaries** in Python are collections that store data as **key–value** pairs.\n",
        "You can think of them like a real-life dictionary: you look up a word (the key) to find its definition (the value).\n",
        "\n",
        "Unlike lists (where items are referenced by their position), dictionaries let you access values directly by their keys. This makes them very useful when you want fast lookups or when the data naturally pairs labels with values."
      ],
      "metadata": {
        "id": "C_f_dnB0R7PA"
      }
    },
    {
      "cell_type": "code",
      "source": [
        "menu = {\n",
        "    \"cappuccino\": [5, 5.5],\n",
        "    \"hot chocolate\": [5, 5.5],\n",
        "    \"Latte macchiato\": 6,\n",
        "    \"Pumpkin spice latte\": \"unavailable at the moment.\"\n",
        "}"
      ],
      "metadata": {
        "id": "M8cFnx39xkdg"
      },
      "execution_count": null,
      "outputs": []
    },
    {
      "cell_type": "markdown",
      "source": [
        "What does **unordered** mean?\n",
        "\n",
        "Well, we know that lists are ordered, so all the elements have a certain position that represents the index. Here, the \"index\" is called the **key**. In our example, the keys are: cappuccino, hot chocolate, latte macchiato, pumpkin spice latte.\n",
        "\n",
        "The elements themselves are called **values**. They can be any data type, even functions (don't forget this).\n",
        "\n",
        "So a **dictionary** is a key-value mapping of items.\n",
        "\n",
        "Extracting the items is similar to lists, but instead of indexes, we use keys:"
      ],
      "metadata": {
        "id": "2xhUMkaJSiMV"
      }
    },
    {
      "cell_type": "code",
      "source": [
        "print(f\"Today we have {list(menu.keys())} in our menu\")"
      ],
      "metadata": {
        "colab": {
          "base_uri": "https://localhost:8080/"
        },
        "id": "vi0JRYvDTQcD",
        "outputId": "0adb4ef4-d8e6-46e1-d6bf-c725436de493"
      },
      "execution_count": null,
      "outputs": [
        {
          "output_type": "stream",
          "name": "stdout",
          "text": [
            "Today we have ['cappuccino', 'hot chocolate', 'Latte macchiato', 'Pumpkin spice latte'] in our menu\n"
          ]
        }
      ]
    },
    {
      "cell_type": "code",
      "source": [
        "print(f\"The prices range from {menu['cappuccino'][0]} to {menu['Latte macchiato']} $\")"
      ],
      "metadata": {
        "colab": {
          "base_uri": "https://localhost:8080/"
        },
        "id": "79t5dfh2UlDE",
        "outputId": "35899fec-2aa1-4d93-b4da-746dae9080d3"
      },
      "execution_count": null,
      "outputs": [
        {
          "output_type": "stream",
          "name": "stdout",
          "text": [
            "The prices range from 5 to 6 $\n"
          ]
        }
      ]
    },
    {
      "cell_type": "markdown",
      "source": [
        "### **Operations**"
      ],
      "metadata": {
        "id": "TpI_2rYiVk1S"
      }
    },
    {
      "cell_type": "markdown",
      "source": [
        "**Adding elements to a dict or modifying them**"
      ],
      "metadata": {
        "id": "bVPlMcZcVnQJ"
      }
    },
    {
      "cell_type": "code",
      "source": [
        "menu[\"Caffe corretto\"] = 7\n",
        "print(menu)"
      ],
      "metadata": {
        "colab": {
          "base_uri": "https://localhost:8080/"
        },
        "id": "-GLBq40TVm12",
        "outputId": "a1740827-8fa6-4c16-e356-be3c284893f9"
      },
      "execution_count": null,
      "outputs": [
        {
          "output_type": "stream",
          "name": "stdout",
          "text": [
            "{'cappuccino': [5, 5.5], 'hot chocolate': [5, 5.5], 'Latte macchiato': 6, 'Pumpkin spice latte': 'unavailable at the moment.', 'Caffe corretto': 7}\n"
          ]
        }
      ]
    },
    {
      "cell_type": "markdown",
      "source": [
        "**Removing from a dict**"
      ],
      "metadata": {
        "id": "qh7wzGKrWEF_"
      }
    },
    {
      "cell_type": "code",
      "source": [
        "del menu[\"Caffe corretto\"]"
      ],
      "metadata": {
        "id": "Hkud_CaWWD3C"
      },
      "execution_count": null,
      "outputs": []
    },
    {
      "cell_type": "markdown",
      "source": [
        "### **Methods**"
      ],
      "metadata": {
        "id": "-Im4t8lyVMZD"
      }
    },
    {
      "cell_type": "markdown",
      "source": [
        "**keys()**"
      ],
      "metadata": {
        "id": "RxfJ_KijVO4C"
      }
    },
    {
      "cell_type": "code",
      "source": [
        "print(menu.keys())"
      ],
      "metadata": {
        "colab": {
          "base_uri": "https://localhost:8080/"
        },
        "id": "6HR41p0uVU4O",
        "outputId": "5a97b3f4-0050-4e45-aa71-d9686ce3f86f"
      },
      "execution_count": null,
      "outputs": [
        {
          "output_type": "stream",
          "name": "stdout",
          "text": [
            "dict_keys(['cappuccino', 'hot chocolate', 'Latte macchiato', 'Pumpkin spice latte'])\n"
          ]
        }
      ]
    },
    {
      "cell_type": "markdown",
      "source": [
        "**values()**"
      ],
      "metadata": {
        "id": "Uij2AXvqVHUj"
      }
    },
    {
      "cell_type": "code",
      "source": [
        "print(menu.values())"
      ],
      "metadata": {
        "colab": {
          "base_uri": "https://localhost:8080/"
        },
        "id": "554Td9V0VZBy",
        "outputId": "7285f055-164c-4ad0-e17f-31c436b1beef"
      },
      "execution_count": null,
      "outputs": [
        {
          "output_type": "stream",
          "name": "stdout",
          "text": [
            "dict_values([[5, 5.5], [5, 5.5], 6, 'unavailable at the moment.'])\n"
          ]
        }
      ]
    },
    {
      "cell_type": "markdown",
      "source": [
        "To iterate through the keys of a dictionary, you can simply loop over the dictionary itself or use the .keys() method."
      ],
      "metadata": {
        "id": "l9-PMG9eeFtM"
      }
    },
    {
      "cell_type": "code",
      "source": [
        "my_dict = {\"apple\": 1, \"banana\": 2, \"cherry\": 3}\n",
        "\n",
        "# Method 1: Iterating through keys directly\n",
        "for key in my_dict:\n",
        "    print(key)\n",
        "\n",
        "# Method 2: Iterating through keys using .keys() method\n",
        "for key in my_dict.keys():\n",
        "    print(key)\n"
      ],
      "metadata": {
        "id": "NErx5RWXeMdn",
        "colab": {
          "base_uri": "https://localhost:8080/"
        },
        "outputId": "bf51d738-2a59-4141-fd88-8bdabfdc984f"
      },
      "execution_count": null,
      "outputs": [
        {
          "output_type": "stream",
          "name": "stdout",
          "text": [
            "apple\n",
            "banana\n",
            "cherry\n",
            "apple\n",
            "banana\n",
            "cherry\n"
          ]
        }
      ]
    },
    {
      "cell_type": "markdown",
      "source": [
        "You can iterate through just the values of the dictionary using the .values() method."
      ],
      "metadata": {
        "id": "abRizpBbeU5d"
      }
    },
    {
      "cell_type": "code",
      "source": [
        "# Iterating through values using .values() method\n",
        "for value in my_dict.values():\n",
        "    print(value)\n"
      ],
      "metadata": {
        "id": "BiM_XlFtep8f",
        "colab": {
          "base_uri": "https://localhost:8080/"
        },
        "outputId": "3dd5749b-9113-4779-bc89-ccb0101a88d0"
      },
      "execution_count": null,
      "outputs": [
        {
          "output_type": "stream",
          "name": "stdout",
          "text": [
            "1\n",
            "2\n",
            "3\n"
          ]
        }
      ]
    },
    {
      "cell_type": "markdown",
      "source": [
        "You can use .items() to get both the key and value at the same time during iteration.\n",
        "\n",
        "The .items() method returns key-value pairs, and you can unpack them directly in the for loop to access both."
      ],
      "metadata": {
        "id": "zzutXziZexbK"
      }
    },
    {
      "cell_type": "code",
      "source": [
        "# Iterating through both keys and values using .items() method\n",
        "for key, value in my_dict.items():\n",
        "    print(f\"Key: {key}, Value: {value}\")\n"
      ],
      "metadata": {
        "id": "RS_ljqomeziH",
        "colab": {
          "base_uri": "https://localhost:8080/"
        },
        "outputId": "5eed30ab-2ed0-4701-a8cd-5843a191bb47"
      },
      "execution_count": null,
      "outputs": [
        {
          "output_type": "stream",
          "name": "stdout",
          "text": [
            "Key: apple, Value: 1\n",
            "Key: banana, Value: 2\n",
            "Key: cherry, Value: 3\n"
          ]
        }
      ]
    },
    {
      "cell_type": "markdown",
      "source": [
        "If you need to get the index of the iteration along with the key-value pair, you can use enumerate()."
      ],
      "metadata": {
        "id": "90AeuwRxfaGp"
      }
    },
    {
      "cell_type": "code",
      "source": [
        "for index, (key, value) in enumerate(my_dict.items()):\n",
        "    print(f\"Index: {index}, Key: {key}, Value: {value}\")"
      ],
      "metadata": {
        "id": "uLQANIQEfp2_",
        "colab": {
          "base_uri": "https://localhost:8080/"
        },
        "outputId": "424c8a39-e0e7-42ec-b59b-5d17e2dc9299"
      },
      "execution_count": null,
      "outputs": [
        {
          "output_type": "stream",
          "name": "stdout",
          "text": [
            "Index: 0, Key: apple, Value: 1\n",
            "Index: 1, Key: banana, Value: 2\n",
            "Index: 2, Key: cherry, Value: 3\n"
          ]
        }
      ]
    },
    {
      "cell_type": "markdown",
      "source": [
        "## **Boolean data types**"
      ],
      "metadata": {
        "id": "JZSjazf9xk6e"
      }
    },
    {
      "cell_type": "markdown",
      "source": [
        "Boolean data type is represented by one 2 values: **True** or **False**, aka **1** or **0**, when 1 is True, and 0 is False.\n",
        "\n",
        "Remember the relational operators discussed earlier, where we saw that they always return True or False? The always return boolean data types."
      ],
      "metadata": {
        "id": "wtVfQCpmWy1e"
      }
    },
    {
      "cell_type": "code",
      "source": [
        "a = True  # 1\n",
        "b = False  # 0"
      ],
      "metadata": {
        "id": "4BqYx4Texmvs"
      },
      "execution_count": null,
      "outputs": []
    },
    {
      "cell_type": "code",
      "source": [
        "print(a==b)\n",
        "print(a!=b)\n",
        "print(a > b)"
      ],
      "metadata": {
        "colab": {
          "base_uri": "https://localhost:8080/"
        },
        "id": "_CivAXbVXete",
        "outputId": "81327382-1d88-44c4-f5bc-36f1bf954f77"
      },
      "execution_count": null,
      "outputs": [
        {
          "output_type": "stream",
          "name": "stdout",
          "text": [
            "False\n",
            "True\n",
            "True\n"
          ]
        }
      ]
    },
    {
      "cell_type": "markdown",
      "source": [
        "The boolean data type is the building block of conditional statements that we will discuss in a bit."
      ],
      "metadata": {
        "id": "S4Ym5zQ2Xqv3"
      }
    },
    {
      "cell_type": "markdown",
      "source": [
        "We cannot always use different types combined, and sometimes we do. For example, let's pretend we want to take 2 numbers as input from the user and calculate the sum."
      ],
      "metadata": {
        "id": "Zwt5q-DvYu59"
      }
    },
    {
      "cell_type": "markdown",
      "source": [
        "## **Type casting**"
      ],
      "metadata": {
        "id": "C2m1SeW4YqpA"
      }
    },
    {
      "cell_type": "code",
      "source": [
        "a = input(\"Enter first number: \")\n",
        "b = input(\"Enter second number: \")"
      ],
      "metadata": {
        "colab": {
          "base_uri": "https://localhost:8080/"
        },
        "id": "h0F6rVDbY8K5",
        "outputId": "5ee15dee-12d6-4788-9032-21a930a916ec"
      },
      "execution_count": null,
      "outputs": [
        {
          "name": "stdout",
          "output_type": "stream",
          "text": [
            "Enter first number: 4\n",
            "Enter second number: 5\n"
          ]
        }
      ]
    },
    {
      "cell_type": "markdown",
      "source": [
        "Now, if we want to compute their sum, this happens:"
      ],
      "metadata": {
        "id": "dMXQ_mwKZByE"
      }
    },
    {
      "cell_type": "code",
      "source": [
        "print(a + b)"
      ],
      "metadata": {
        "colab": {
          "base_uri": "https://localhost:8080/"
        },
        "id": "aG_sv2xsZG-Z",
        "outputId": "13b60f42-e793-406b-c736-2fb999877665"
      },
      "execution_count": null,
      "outputs": [
        {
          "output_type": "stream",
          "name": "stdout",
          "text": [
            "45\n"
          ]
        }
      ]
    },
    {
      "cell_type": "markdown",
      "source": [
        "Now this is an example of the worst existent calculator. Can you tell why this happens?"
      ],
      "metadata": {
        "id": "XNSEe0FnZKOm"
      }
    },
    {
      "cell_type": "markdown",
      "source": [
        "To repair this, we need to obtain integers. We can do this with **typecasting**:"
      ],
      "metadata": {
        "id": "kAZE3O3UZVTe"
      }
    },
    {
      "cell_type": "code",
      "source": [
        "a, b = int(a), int(b)"
      ],
      "metadata": {
        "id": "kyQeuo8lZUT3"
      },
      "execution_count": null,
      "outputs": []
    },
    {
      "cell_type": "code",
      "source": [
        "print(a + b)"
      ],
      "metadata": {
        "colab": {
          "base_uri": "https://localhost:8080/"
        },
        "id": "W6bwRUJ9ZfVN",
        "outputId": "fad95d4b-33ae-4ed2-8965-b654b451ee5a"
      },
      "execution_count": null,
      "outputs": [
        {
          "output_type": "stream",
          "name": "stdout",
          "text": [
            "9\n"
          ]
        }
      ]
    },
    {
      "cell_type": "markdown",
      "source": [
        "Typecasting works for most of the datatypes. Most common transformations are:\n",
        "*   to string: str(object)\n",
        "*   to list:   list(object)\n",
        "*   to int (only if numerical):   int(object)\n"
      ],
      "metadata": {
        "id": "45Mlwm6zZi46"
      }
    },
    {
      "cell_type": "markdown",
      "source": [
        "# 2. **If else statement**"
      ],
      "metadata": {
        "id": "baK1NgfBPVZz"
      }
    },
    {
      "cell_type": "markdown",
      "source": [
        "If else is a conditional statement that verifies **a condition**. If the condition is **True**, the block of code following it will be executed. If not, it will be skipped."
      ],
      "metadata": {
        "id": "eqEKC_Ercm6L"
      }
    },
    {
      "cell_type": "markdown",
      "source": [
        "## **Syntax of a statement and indentation**"
      ],
      "metadata": {
        "id": "nuiUhDeJxrje"
      }
    },
    {
      "cell_type": "markdown",
      "source": [
        "You have probably seen this kind of coffee cup below before. Let's try to make sense out of it:\n",
        "\n",
        "![Screenshot 2024-11-19 172624.png](data:image/png;base64,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)"
      ],
      "metadata": {
        "id": "itwfeUZ5AXOj"
      }
    },
    {
      "cell_type": "markdown",
      "source": [
        "The **condition** of the if-statement has to return True or False. In the following example we see a negation of a bollean variable using the **not** keyword:"
      ],
      "metadata": {
        "id": "cAXIVjzoczr5"
      }
    },
    {
      "cell_type": "code",
      "execution_count": null,
      "metadata": {
        "id": "_RhJUJtpOZEb",
        "colab": {
          "base_uri": "https://localhost:8080/"
        },
        "outputId": "5a7a542f-02c0-40fa-c026-d6b344c1c4e7"
      },
      "outputs": [
        {
          "output_type": "stream",
          "name": "stdout",
          "text": [
            "Here is your coffee\n"
          ]
        }
      ],
      "source": [
        "coffee = False\n",
        "\n",
        "if not coffee:\n",
        "  # refill\n",
        "  coffee = True\n",
        "  print(\"Here is your coffee\")\n",
        "else:\n",
        "  print(\"Drinking the coffee...\")\n"
      ]
    },
    {
      "cell_type": "markdown",
      "source": [
        "Also, you probably noticed that the block of code is indented after the conditional statement. This indented block of code represents what will run **if** the condition is true.\n",
        "\n",
        "Python is very strict with the indentation. Every related line of code has to be **on the same indentation level**. A simple way to manage this is: **everytime after ':', we have an indentation level**. After the if-condition, a ':' is mandatory, as well as after else.\n",
        "\n",
        "\n",
        "\n",
        "In addition to if and else, we have an extra condition: **elif**, which is optional, just like **else**, and is places between the if and the else. So if the first condition is not True, it will evaluate second condition, and so on. The else-block can be thought of as a **backup** condition."
      ],
      "metadata": {
        "id": "DWQiFO_cdtGY"
      }
    },
    {
      "cell_type": "markdown",
      "source": [
        "![image.png](data:image/png;base64,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)"
      ],
      "metadata": {
        "id": "Vxw_nQCJNcxD"
      }
    },
    {
      "cell_type": "code",
      "source": [
        "coffee = input(\"Do you have coffee? Y/N: \")\n",
        "\n",
        "if coffee.upper() == 'N':\n",
        "  # refill\n",
        "  coffee = True\n",
        "  print(\"Here is your coffee\")\n",
        "elif coffee.upper() == 'Y':\n",
        "  print(\"You already have coffee\")\n",
        "else:\n",
        "  print(\"That is not a valid option.\")\n"
      ],
      "metadata": {
        "colab": {
          "base_uri": "https://localhost:8080/"
        },
        "id": "g1gXyTrihlID",
        "outputId": "c467b828-5100-454f-a230-0171ebac25cb"
      },
      "execution_count": null,
      "outputs": [
        {
          "output_type": "stream",
          "name": "stdout",
          "text": [
            "Do you have coffee? Y/N: Y\n",
            "You already have coffee\n"
          ]
        }
      ]
    },
    {
      "cell_type": "markdown",
      "source": [
        "## **Combining multiple conditions**"
      ],
      "metadata": {
        "id": "TYZxYWMGxwO3"
      }
    },
    {
      "cell_type": "markdown",
      "source": [
        "The **in** keyword can be used to check whether an object is part of another iterable object.\n",
        "\n",
        "Multiple conditions can be joined in confitional statements using the following keywords: **and**, **or**"
      ],
      "metadata": {
        "id": "IQnvI4ZmjUpl"
      }
    },
    {
      "cell_type": "code",
      "source": [
        "menu = {\n",
        "    \"cappuccino\": \"5$\",\n",
        "    \"hot chocolate\": \"5$\",\n",
        "    \"Latte macchiato\": \"6$\",\n",
        "    \"Pumpkin spice latte\": \"unavailable at the moment.\",\n",
        "    \"Caffe corretto\": \"7$\"\n",
        "}\n",
        "\n",
        "print(f\"Here's our selection of coffees: {list(menu.keys())}\")\n",
        "option = input(\"What do you want to order? \")\n",
        "\n",
        "if option in menu:\n",
        "  print(f\"The product is {menu[option]}\")\n",
        "else:\n",
        "  print(f\"We do not have that option in the menu.\")\n"
      ],
      "metadata": {
        "id": "RWkvdAnGx4Xl",
        "colab": {
          "base_uri": "https://localhost:8080/"
        },
        "outputId": "d2233e45-6f54-4edf-c795-4639b870fb4a"
      },
      "execution_count": null,
      "outputs": [
        {
          "output_type": "stream",
          "name": "stdout",
          "text": [
            "Here's our selection of coffees: ['cappuccino', 'hot chocolate', 'Latte macchiato', 'Pumpkin spice latte']\n",
            "What do you want to order? cappuccino\n",
            "The product is 5$\n"
          ]
        }
      ]
    },
    {
      "cell_type": "markdown",
      "source": [
        "**Nested conditions**"
      ],
      "metadata": {
        "id": "M74cBMsimN-z"
      }
    },
    {
      "cell_type": "markdown",
      "source": [
        "Let's pretend that the caffe corretto is only served to adults and if you did not have another caffe correto beforehand."
      ],
      "metadata": {
        "id": "HTW7wCJgmA-8"
      }
    },
    {
      "cell_type": "code",
      "source": [
        "menu = {\n",
        "    \"cappuccino\": \"5$\",\n",
        "    \"hot chocolate\": \"5$\",\n",
        "    \"Latte macchiato\": \"6$\",\n",
        "    \"Pumpkin spice latte\": \"unavailable at the moment.\",\n",
        "    \"Caffe corretto\": \"7$\"\n",
        "}\n",
        "\n",
        "print(f\"Here's our selection of coffees: {list(menu.keys())}\")\n",
        "option = input(\"What do you want to order? \")\n",
        "\n",
        "if option in menu:\n",
        "    if option == \"Caffe corretto\":\n",
        "        age = int(input(\"How old are you?\"))\n",
        "        flag = input(\"Is this your first drink? Y/N: \")\n",
        "        # Use 'or' to allow the user if either condition is satisfied\n",
        "        if (age >= 18 and flag.upper() == 'Y') or age >= 21:  # You can adjust the age threshold as needed\n",
        "            print(f\"The product is {menu[option]}\")\n",
        "        else:\n",
        "            print(\"No. You can't have a caffe corretto.\")\n",
        "    else:\n",
        "        print(f\"The product is {menu[option]}\")\n",
        "else:\n",
        "    print(f\"We do not have that option in the menu.\")\n"
      ],
      "metadata": {
        "id": "Ap8acmU7ltoL"
      },
      "execution_count": null,
      "outputs": []
    },
    {
      "cell_type": "markdown",
      "source": [
        "# 3. **For loop**"
      ],
      "metadata": {
        "id": "fzYA6P4Yx57P"
      }
    },
    {
      "cell_type": "markdown",
      "source": [
        "For loops are statements that iterate (aka go from one element to another) through an iterable object. Do you remember the iterable data types?"
      ],
      "metadata": {
        "id": "w0AdgIQynUrt"
      }
    },
    {
      "cell_type": "markdown",
      "source": [
        "## **Iterating through lists, strings, dicts**"
      ],
      "metadata": {
        "id": "9n9V4t1Dyned"
      }
    },
    {
      "cell_type": "markdown",
      "source": [
        "How many vowels does 'coffee' have?"
      ],
      "metadata": {
        "id": "JfG5KvGVnw83"
      }
    },
    {
      "cell_type": "code",
      "source": [
        "word = 'coffee'\n",
        "cnt = 0\n",
        "\n",
        "for i in word:\n",
        "  if i in ['a', 'e', 'i', 'o', 'u']:\n",
        "    cnt = cnt + 1   # can be written as cnt += 1 (incrementing the value)\n",
        "\n",
        "print(f\"'{word}' has {cnt} vowels.\")\n"
      ],
      "metadata": {
        "colab": {
          "base_uri": "https://localhost:8080/"
        },
        "id": "_8oSOH-LnqoY",
        "outputId": "deaf9dbf-a099-415d-9e39-086599835fa6"
      },
      "execution_count": null,
      "outputs": [
        {
          "output_type": "stream",
          "name": "stdout",
          "text": [
            "'coffee' has 3 vowels.\n"
          ]
        }
      ]
    },
    {
      "cell_type": "markdown",
      "source": [
        "Let's iterate through our menu to display it nicely:"
      ],
      "metadata": {
        "id": "0BPg1iOZoNvy"
      }
    },
    {
      "cell_type": "code",
      "source": [
        "menu = {\n",
        "    \"cappuccino\": 5,\n",
        "    \"hot chocolate\": 5,\n",
        "    \"Latte macchiato\": 6,\n",
        "    \"Caffe corretto\": 7\n",
        "}\n",
        "\n",
        "print(\"Welcome to our caffeteria! Here's our menu:\\n\")\n",
        "for i in menu:\n",
        "  print(f\"{i}\\t\\t\\t..{menu[i]}$\")"
      ],
      "metadata": {
        "colab": {
          "base_uri": "https://localhost:8080/"
        },
        "id": "ltBrcF1-oQK1",
        "outputId": "91f587a7-7924-42bb-fe2a-70f9ac74bb3c"
      },
      "execution_count": null,
      "outputs": [
        {
          "output_type": "stream",
          "name": "stdout",
          "text": [
            "Welcome to our caffeteria! Here's our menu:\n",
            "\n",
            "cappuccino\t\t\t..5$\n",
            "hot chocolate\t\t\t..5$\n",
            "Latte macchiato\t\t\t..6$\n",
            "Caffe corretto\t\t\t..7$\n"
          ]
        }
      ]
    },
    {
      "cell_type": "markdown",
      "source": [
        "One nice thing about **for** loops is that **you cannot cause an infinite loop**. it begins with the first element of the iterable and finishes after the last element."
      ],
      "metadata": {
        "id": "6KDFxVhppKUf"
      }
    },
    {
      "cell_type": "markdown",
      "source": [
        "## **range() function**"
      ],
      "metadata": {
        "id": "FmZBlocrzFS0"
      }
    },
    {
      "cell_type": "markdown",
      "source": [
        "Introducing the **range()** function data type, that simplifies our handling of integers."
      ],
      "metadata": {
        "id": "ib_YQw5PqRUw"
      }
    },
    {
      "cell_type": "code",
      "source": [
        "x = range(10)\n",
        "print(x)"
      ],
      "metadata": {
        "colab": {
          "base_uri": "https://localhost:8080/"
        },
        "id": "oeSAH20YqXi6",
        "outputId": "c472974b-ee79-4911-a59d-e39d5680f889"
      },
      "execution_count": null,
      "outputs": [
        {
          "output_type": "stream",
          "name": "stdout",
          "text": [
            "range(0, 10)\n"
          ]
        }
      ]
    },
    {
      "cell_type": "code",
      "source": [
        "for i in range(10):\n",
        "  print(i)"
      ],
      "metadata": {
        "colab": {
          "base_uri": "https://localhost:8080/"
        },
        "id": "GF8DsV2fqlLO",
        "outputId": "f567724d-876a-46c6-acd2-a7b4d64c42d5"
      },
      "execution_count": null,
      "outputs": [
        {
          "output_type": "stream",
          "name": "stdout",
          "text": [
            "0\n",
            "1\n",
            "2\n",
            "3\n",
            "4\n",
            "5\n",
            "6\n",
            "7\n",
            "8\n",
            "9\n"
          ]
        }
      ]
    },
    {
      "cell_type": "markdown",
      "source": [
        "Let's pretend the following scenario:\n",
        "\n",
        "We have a secret caffeteria where we only want to let customers in that know a password. The password is 'letmein'. As we understand that typos exist, we want to give the customer 3 chances of entering the password."
      ],
      "metadata": {
        "id": "pfY2i9tVpXPJ"
      }
    },
    {
      "cell_type": "code",
      "source": [
        "password = 'letmein'\n",
        "\n",
        "for i in range(3):\n",
        "  if input(\"Enter the password: \") == password:\n",
        "    print(\"You are in!\")\n",
        "    break\n",
        "  else:\n",
        "    print(\"Try again!\")\n",
        "# this executes if the for ended and the break keyword wasn't met\n",
        "else:\n",
        "  print(\"You reached your maximum tries.\")\n"
      ],
      "metadata": {
        "id": "iOXA6xxKzqCR",
        "colab": {
          "base_uri": "https://localhost:8080/"
        },
        "outputId": "8fde844f-e25e-4fdc-fb57-66bee7729f0b"
      },
      "execution_count": null,
      "outputs": [
        {
          "output_type": "stream",
          "name": "stdout",
          "text": [
            "Enter the password: letme1n\n",
            "Try again!\n",
            "Enter the password: letme\n",
            "Try again!\n",
            "Enter the password: letmein\n",
            "You are in!\n"
          ]
        }
      ]
    },
    {
      "cell_type": "markdown",
      "source": [
        "#While Loop"
      ],
      "metadata": {
        "id": "wR_qyjVjP-Hl"
      }
    },
    {
      "cell_type": "markdown",
      "source": [
        "*  While loop repeats a block of code as long as a condition is True.\n",
        "*  The condition is checked before each iteration.\n",
        "*  The condition is checked before each iteration."
      ],
      "metadata": {
        "id": "uF0sl5xGQLhC"
      }
    },
    {
      "cell_type": "code",
      "source": [
        "count = 1\n",
        "\n",
        "while count <= 5:        # loop runs while condition is True\n",
        "    print(\"Count is:\", count)\n",
        "    count += 1           # update variable to avoid infinite loop\n",
        "\n",
        "print(\"Loop finished\")"
      ],
      "metadata": {
        "id": "N3GJB0RdQ8DZ"
      },
      "execution_count": null,
      "outputs": []
    },
    {
      "cell_type": "markdown",
      "source": [
        "##Continue and Break keywords"
      ],
      "metadata": {
        "id": "qWZjMjkPRAyL"
      }
    },
    {
      "cell_type": "markdown",
      "source": [
        "**Continue**\n",
        "\n",
        "*  Skips the rest of the current loop iteration.\n",
        "*  Goes straight back to the loop’s condition / next iteration.\n",
        "* Useful when you want to ignore certain cases but keep looping.\n",
        "\n"
      ],
      "metadata": {
        "id": "Wpt9Nyf4RVKP"
      }
    },
    {
      "cell_type": "code",
      "source": [
        "for num in range(1, 6):\n",
        "    if num == 3:\n",
        "        continue   # skip 3\n",
        "    print(num)\n"
      ],
      "metadata": {
        "id": "6OolcV_XRqOq"
      },
      "execution_count": null,
      "outputs": []
    },
    {
      "cell_type": "markdown",
      "source": [
        "**Break**\n",
        "\n",
        "*  Immediately exits the loop completely.\n",
        "*  Execution jumps to the first line after the loop.\n"
      ],
      "metadata": {
        "id": "6FhnLrtbRu4c"
      }
    },
    {
      "cell_type": "code",
      "source": [
        "count = 1\n",
        "while True:                 # infinite loop\n",
        "    print(\"Count is:\", count)\n",
        "    if count == 3:\n",
        "        break               # stop the loop at 3\n",
        "    count += 1\n"
      ],
      "metadata": {
        "id": "-fcCkgY7SBQq"
      },
      "execution_count": null,
      "outputs": []
    },
    {
      "cell_type": "markdown",
      "source": [
        "# 4. **Functions**"
      ],
      "metadata": {
        "id": "lMEhuI8hysaS"
      }
    },
    {
      "cell_type": "markdown",
      "source": [
        "Those that we saw are called built-in functions. We have the option to create our own functions and define their behaviour.\n",
        "\n",
        "The benefit of functions is code reusability. Instead of repeating the same code over and over again, we can simply create a function and just call it whenever needed."
      ],
      "metadata": {
        "id": "TO-_ctjErv3T"
      }
    },
    {
      "cell_type": "markdown",
      "source": [
        "## **Defining and calling functions**"
      ],
      "metadata": {
        "id": "NFLdKx7pzt7P"
      }
    },
    {
      "cell_type": "markdown",
      "source": [
        "Here is the way we define and call functions:"
      ],
      "metadata": {
        "id": "Gn_ClDtHr45q"
      }
    },
    {
      "cell_type": "code",
      "source": [
        "def refill():        # signature\n",
        "  print(\"Here's your coffee\")\n",
        "\n",
        "coffee = 0\n",
        "if not coffee:\n",
        "  refill()"
      ],
      "metadata": {
        "id": "QagSkT-WzxG-",
        "colab": {
          "base_uri": "https://localhost:8080/"
        },
        "outputId": "a16ebc43-ba20-4e4d-c479-581a07b1facb"
      },
      "execution_count": null,
      "outputs": [
        {
          "output_type": "stream",
          "name": "stdout",
          "text": [
            "Here's your coffee\n"
          ]
        }
      ]
    },
    {
      "cell_type": "markdown",
      "source": [
        "## **Parameters and return value**"
      ],
      "metadata": {
        "id": "dEQF0zVLy97Y"
      }
    },
    {
      "cell_type": "markdown",
      "source": [
        "Functions often take input values and return output values.\n",
        "![Screenshot 2024-11-19 160230.png](data:image/png;base64,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)\n"
      ],
      "metadata": {
        "id": "NtMX6rdxtT24"
      }
    },
    {
      "cell_type": "markdown",
      "source": [
        "Let's say we want a function that calculates total value of order, by taking discount into consideration.\n",
        "\n",
        "**Input values (what we know):** cost of the coffee, number of cups, discount (which defaults to 0)\n",
        "\n",
        "**Output values (what we want to know):** total cost of the order\n",
        "\n",
        "\n",
        "\n",
        "Our budget is 50$, so if it exceeds that, we do not want to buy the order."
      ],
      "metadata": {
        "id": "ouSkwXHEvZ77"
      }
    },
    {
      "cell_type": "code",
      "source": [
        "def total_cost(cost_per_coffee, no_of_cups, discount = 0):\n",
        "  total_cost_of_order = (cost_per_coffee * no_of_cups) * (1 - discount/100)\n",
        "  return total_cost_of_order\n",
        "\n",
        "order_price = round(total_cost(5.5, 9, 10),2)\n",
        "print(f\"The total price of the order is: {order_price}\")\n",
        "if order_price > 50:\n",
        "  print(\"We can't afford that.\")\n",
        "else:\n",
        "  print(\"We will totally buy the coffee!\")\n"
      ],
      "metadata": {
        "id": "xkbrNKYMz3Xx",
        "colab": {
          "base_uri": "https://localhost:8080/"
        },
        "outputId": "4353f10f-aed2-4019-a785-35a728618662"
      },
      "execution_count": null,
      "outputs": [
        {
          "output_type": "stream",
          "name": "stdout",
          "text": [
            "The total price of the order is: 44.55\n",
            "We will totally buy the coffee!\n"
          ]
        }
      ]
    },
    {
      "cell_type": "markdown",
      "source": [
        "# Classes"
      ],
      "metadata": {
        "id": "qBkLvbyuja6N"
      }
    },
    {
      "cell_type": "markdown",
      "source": [
        "1️⃣ What is a Class?\n",
        "\n",
        "A class is like a blueprint for creating objects.\n",
        "Objects created from a class have attributes (data) and methods (functions that work with that data).\n",
        "\n",
        "\n",
        "2️⃣ __init__ Method\n",
        "\n",
        "__init__ is called the constructor.\n",
        "It runs automatically when a new object is created."
      ],
      "metadata": {
        "id": "cD8qGxH7tX4l"
      }
    },
    {
      "cell_type": "code",
      "source": [
        "class NetworkDevice:\n",
        "    def __init__(self, hostname, ip):\n",
        "        self.hostname = hostname  # attribute\n",
        "        self.ip = ip              # attribute\n",
        "\n",
        "# Creating an object\n",
        "router = NetworkDevice(\"R1\", \"192.168.0.1\")\n",
        "\n",
        "print(router.hostname)  # R1\n",
        "print(router.ip)        # 192.168.0.1\n"
      ],
      "metadata": {
        "id": "zho77A9LtceR"
      },
      "execution_count": null,
      "outputs": []
    },
    {
      "cell_type": "markdown",
      "source": [
        "Important:\n",
        "\n",
        " - self represents the current object (similar to \"this\" in other languages).\n",
        "\n",
        " - Attributes must be written as self.name to belong to the object."
      ],
      "metadata": {
        "id": "-svAn5fQteXm"
      }
    },
    {
      "cell_type": "markdown",
      "source": [
        "3️⃣ Attributes\n",
        "\n",
        " - Instance attributes → defined in __init__ (specific to each object)\n",
        "\n",
        " - Class attributes → defined outside __init__ (shared by all objects)"
      ],
      "metadata": {
        "id": "I0pJTAY1tjrc"
      }
    },
    {
      "cell_type": "code",
      "source": [
        "class Switch:\n",
        "    device_type = \"Switch\"  # class attribute\n",
        "\n",
        "    def __init__(self, hostname, ports):\n",
        "        self.hostname = hostname  # instance attribute\n",
        "        self.ports = ports\n",
        "\n",
        "sw1 = Switch(\"SW1\", 24)\n",
        "sw2 = Switch(\"SW2\", 48)\n",
        "\n",
        "print(sw1.device_type)  # Switch\n",
        "print(sw2.device_type)  # Switch\n",
        "print(sw1.hostname)     # SW1\n",
        "print(sw2.hostname)     # SW2\n"
      ],
      "metadata": {
        "id": "W5K9ucCjtl6W"
      },
      "execution_count": null,
      "outputs": []
    },
    {
      "cell_type": "markdown",
      "source": [
        "4️⃣ Methods\n",
        "\n",
        "A method is a function inside a class.\n",
        "It always has self as the first parameter (unless it’s a special case like @staticmethod)."
      ],
      "metadata": {
        "id": "TOyzjrmWtoPm"
      }
    },
    {
      "cell_type": "code",
      "source": [
        "class Router:\n",
        "    def __init__(self, hostname, ip):\n",
        "        self.hostname = hostname\n",
        "        self.ip = ip\n",
        "\n",
        "    def ping(self):\n",
        "        print(f\"Pinging {self.ip} from {self.hostname}...\")\n",
        "\n",
        "r1 = Router(\"R1\", \"192.168.0.1\")\n",
        "r1.ping()  # Calls the method\n"
      ],
      "metadata": {
        "id": "duDDMHZDtruo"
      },
      "execution_count": null,
      "outputs": []
    },
    {
      "cell_type": "markdown",
      "source": [
        "| **Function**                       | **Method**                                    |\n",
        "| ---------------------------------- | --------------------------------------------- |\n",
        "| Defined outside of a class         | Defined inside a class                        |\n",
        "| Called directly: `function_name()` | Called on an object: `object.method_name()`   |\n",
        "| Works with parameters you pass     | Usually works with the object’s data (`self`) |\n"
      ],
      "metadata": {
        "id": "chx5-QUrttuB"
      }
    },
    {
      "cell_type": "markdown",
      "source": [
        "6️⃣ Inheritance\n",
        "\n",
        "Inheritance allows one class to get attributes & methods from another."
      ],
      "metadata": {
        "id": "clVl5HBvtzeH"
      }
    },
    {
      "cell_type": "code",
      "source": [
        "class NetworkDevice:\n",
        "    def __init__(self, hostname, ip):\n",
        "        self.hostname = hostname\n",
        "        self.ip = ip\n",
        "\n",
        "    def info(self):\n",
        "        print(f\"Device {self.hostname} with IP {self.ip}\")\n",
        "\n",
        "class Switch(NetworkDevice):  # Switch inherits from NetworkDevice\n",
        "    def __init__(self, hostname, ip, ports):\n",
        "        super().__init__(hostname, ip)  # calls parent constructor\n",
        "        self.ports = ports\n",
        "\n",
        "sw1 = Switch(\"SW1\", \"192.168.0.2\", 24)\n",
        "sw1.info()  # Method from parent class\n"
      ],
      "metadata": {
        "id": "oEKE3S-rt2o-"
      },
      "execution_count": null,
      "outputs": []
    },
    {
      "cell_type": "markdown",
      "source": [
        "7️⃣ The super() Keyword\n",
        "\n",
        " - super() calls methods from the parent class.\n",
        "\n",
        " - Used often inside __init__ to reuse parent initialization."
      ],
      "metadata": {
        "id": "ksiFV2nUt3_8"
      }
    },
    {
      "cell_type": "code",
      "source": [
        "class Router(NetworkDevice):\n",
        "    def __init__(self, hostname, ip, routing_protocol):\n",
        "        super().__init__(hostname, ip)  # from parent\n",
        "        self.routing_protocol = routing_protocol\n"
      ],
      "metadata": {
        "id": "EaYWEHQwt_pz"
      },
      "execution_count": null,
      "outputs": []
    },
    {
      "cell_type": "markdown",
      "source": [
        "8️⃣ Polymorphism\n",
        "\n",
        "Polymorphism = many forms.\n",
        "\n",
        "Different classes can have methods with the same name but different behavior."
      ],
      "metadata": {
        "id": "KYMp8pTIuATo"
      }
    },
    {
      "cell_type": "code",
      "source": [
        "class Router:\n",
        "    def info(self):\n",
        "        print(\"This is a Router\")\n",
        "\n",
        "class Switch:\n",
        "    def info(self):\n",
        "        print(\"This is a Switch\")\n",
        "\n",
        "devices = [Router(), Switch()]\n",
        "\n",
        "for d in devices:\n",
        "    d.info()  # Same method name, different output\n"
      ],
      "metadata": {
        "id": "bIR29N4fuEag"
      },
      "execution_count": null,
      "outputs": []
    },
    {
      "cell_type": "markdown",
      "source": [
        "9️⃣ *args and **kwargs\n",
        "\n",
        "These allow functions/methods to accept a variable number of parameters.\n",
        "\n",
        "*args → collects extra positional arguments into a tuple.\n",
        "\n",
        "**kwargs → collects extra keyword arguments into a dictionary."
      ],
      "metadata": {
        "id": "U5rYN0LuuGMF"
      }
    },
    {
      "cell_type": "code",
      "source": [
        "class Device:\n",
        "    def __init__(self, hostname, *args, **kwargs):\n",
        "        self.hostname = hostname\n",
        "        self.args = args\n",
        "        self.kwargs = kwargs\n",
        "\n",
        "d = Device(\"R1\", \"192.168.0.1\", \"Cisco\", location=\"Server Room\", status=\"Up\")\n",
        "print(d.args)    # ('192.168.0.1', 'Cisco')\n",
        "print(d.kwargs)  # {'location': 'Server Room', 'status': 'Up'}\n"
      ],
      "metadata": {
        "id": "xjAMDo_HuLqO"
      },
      "execution_count": null,
      "outputs": []
    },
    {
      "cell_type": "markdown",
      "source": [
        "🔑 What’s Important for You to Know\n",
        "\n",
        " - __init__ runs automatically when you create an object.\n",
        "\n",
        " - Always use self to access object attributes inside methods.\n",
        "\n",
        " - Inheritance helps you reuse code — child classes can extend or override parent functionality.\n",
        "\n",
        " - Polymorphism allows the same method name to work differently depending on the object type.\n",
        "\n",
        " - super() is key for calling parent class methods.\n",
        "\n",
        " - *args and **kwargs make your methods more flexible.\n",
        "\n",
        " - The difference between methods (inside a class) and functions (standalone)."
      ],
      "metadata": {
        "id": "jW19AxcBuNaQ"
      }
    },
    {
      "cell_type": "markdown",
      "source": [
        "# Lamine Yaml"
      ],
      "metadata": {
        "id": "d_yIOBx2uW4S"
      }
    },
    {
      "cell_type": "markdown",
      "source": [
        "1️⃣ What is YAML?\n",
        "\n",
        "YAML stands for YAML Ain’t Markup Language.\n",
        "\n",
        "It’s a human-readable format for storing and sharing configuration data.\n",
        "\n",
        "YAML is very popular in networking, DevOps, and automation because it’s simple and easy to read.\n",
        "\n",
        "Used in:\n",
        "\n",
        " - Network automation (Ansible playbooks, NetBox configs)\n",
        "\n",
        " - Kubernetes configurations\n",
        "\n",
        " - Docker Compose files"
      ],
      "metadata": {
        "id": "OeR0UbogJ8D_"
      }
    },
    {
      "cell_type": "code",
      "source": [
        "# Testbed section - describes the network as a whole\n",
        "testbed:\n",
        "  name: MyNetwork\n",
        "  credentials:\n",
        "    default:          # Default login for all devices\n",
        "      username: admin\n",
        "      password: cisco123\n",
        "    enable:           # Example of another credential set\n",
        "      password: enable123\n",
        "\n",
        "# Devices section - each device has its OS, type, and connection details\n",
        "devices:\n",
        "  R1:\n",
        "    os: iosxe\n",
        "    type: router\n",
        "    role: core        # Extra field to show custom attributes\n",
        "    connections:\n",
        "      cli:\n",
        "        protocol: ssh\n",
        "        ip: 192.168.0.1\n",
        "        port: 22\n",
        "    vlans:             # Example of a list in YAML\n",
        "      - VLAN10\n",
        "      - VLAN20\n",
        "      - VLAN30\n",
        "  SW1:\n",
        "    os: ios\n",
        "    type: switch\n",
        "    role: access\n",
        "    connections:\n",
        "      cli:\n",
        "        protocol: ssh\n",
        "        ip: 192.168.0.2\n",
        "        port: 22\n",
        "    vlans:\n",
        "      - VLAN10\n",
        "      - VLAN20\n",
        "\n",
        "# Topology section - shows how devices are physically/logically connected\n",
        "topology:\n",
        "  R1:\n",
        "    interfaces:\n",
        "      GigabitEthernet0/0:\n",
        "        ipv4: 192.168.0.1/24\n",
        "        link: link1\n",
        "        description: Connection to SW1\n",
        "      GigabitEthernet0/1:\n",
        "        ipv4: 10.0.0.1/30\n",
        "        link: link2\n",
        "        description: Connection to WAN Router\n",
        "  SW1:\n",
        "    interfaces:\n",
        "      FastEthernet0/1:\n",
        "        link: link1\n",
        "        description: Connection to R1\n",
        "      FastEthernet0/2:\n",
        "        link: link3\n",
        "        description: Connection to Access Point\n",
        "      FastEthernet0/3:\n",
        "        allowed_vlans:  # List inside an interface\n",
        "          - VLAN10\n",
        "          - VLAN20\n"
      ],
      "metadata": {
        "id": "5H65gK3XLaCu"
      },
      "execution_count": null,
      "outputs": []
    },
    {
      "cell_type": "markdown",
      "source": [
        "2️⃣ YAML Structure Rules\n",
        "1. Indentation = Structure\n",
        "\n",
        " - Spaces define hierarchy (⚠ no tabs allowed)\n",
        "\n",
        " - Always use the same number of spaces (usually 2)\n",
        "\n",
        "2. Key–Value Pairs\n",
        "\n",
        " - Data is stored as key: value pairs\n",
        "\n",
        " - Keys must be unique at the same level\n",
        "\n",
        "3. Lists\n",
        "\n",
        " - Represent multiple values under the same key\n",
        "\n",
        " - Each item starts with a dash and space\n",
        "4. Nested Data\n",
        " - Keys can contain other keys or lists inside them\n",
        "\n",
        " - Indentation shows relationships between elements\n",
        "5. Comments\n",
        " - Begin with # and are ignored by YAML parsers\n",
        "\n",
        " - Useful for documentation inside config files"
      ],
      "metadata": {
        "id": "3W0-YU9JLzu8"
      }
    },
    {
      "cell_type": "markdown",
      "source": [
        "3️⃣ Reading YAML in Python\n",
        "\n",
        "We use the PyYAML package (pip install pyyaml)."
      ],
      "metadata": {
        "id": "sLnI0q4nNKjy"
      }
    },
    {
      "cell_type": "code",
      "source": [
        "import yaml\n",
        "\n",
        "# Open and read YAML file\n",
        "with open(\"network_config.yaml\") as f:\n",
        "    data = yaml.safe_load(f)\n",
        "\n",
        "# Print entire data\n",
        "print(data)\n",
        "\n",
        "# Access specific data\n",
        "print(data[\"devices\"][0][\"name\"])  # Router1\n",
        "print(data[\"devices\"][1][\"ip\"])    # 192.168.0.2\n"
      ],
      "metadata": {
        "id": "HX0jom1DNPwq"
      },
      "execution_count": null,
      "outputs": []
    },
    {
      "cell_type": "markdown",
      "source": [
        "4️⃣ Writing YAML in Python"
      ],
      "metadata": {
        "id": "3Ko10jIiNVWo"
      }
    },
    {
      "cell_type": "code",
      "source": [
        "import yaml\n",
        "\n",
        "new_data = {\n",
        "    \"devices\": [\n",
        "        {\"name\": \"Router1\", \"ip\": \"192.168.0.1\", \"ports\": 24},\n",
        "        {\"name\": \"Switch1\", \"ip\": \"192.168.0.2\", \"ports\": 48}\n",
        "    ]\n",
        "}\n",
        "\n",
        "# Save to YAML\n",
        "with open(\"network_config.yaml\", \"w\") as f:\n",
        "    yaml.dump(new_data, f)\n"
      ],
      "metadata": {
        "id": "nPsGsiYjNZjt"
      },
      "execution_count": null,
      "outputs": []
    },
    {
      "cell_type": "markdown",
      "source": [
        "5️⃣ Editing a YAML File (Example)"
      ],
      "metadata": {
        "id": "vENrlC2lNco9"
      }
    },
    {
      "cell_type": "code",
      "source": [
        "import yaml\n",
        "\n",
        "# Load YAML\n",
        "with open(\"network_config.yaml\") as f:\n",
        "    data = yaml.safe_load(f)\n",
        "\n",
        "# Change IP of Switch1\n",
        "for device in data[\"devices\"]:\n",
        "    if device[\"name\"] == \"Switch1\":\n",
        "        device[\"ip\"] = \"192.168.0.10\"\n",
        "\n",
        "# Save changes back to file\n",
        "with open(\"network_config.yaml\", \"w\") as f:\n",
        "    yaml.dump(data, f)\n"
      ],
      "metadata": {
        "id": "XdmSHVvvOoOS"
      },
      "execution_count": null,
      "outputs": []
    },
    {
      "cell_type": "markdown",
      "source": [
        "🔑 What’s Important to Remember\n",
        "\n",
        " - Indentation is everything — use spaces, never tabs.\n",
        "\n",
        " - Keys and values are written as key: value.\n",
        "\n",
        " - Lists start with - and must be indented correctly.\n",
        "\n",
        " - YAML supports nesting for structured data.\n",
        "\n",
        " - Always use yaml.safe_load() instead of yaml.load() for safety.\n",
        "\n",
        " - YAML files are great for configs — you can change the file without touching your Python code."
      ],
      "metadata": {
        "id": "iKvjctAdOrRh"
      }
    },
    {
      "cell_type": "markdown",
      "source": [
        "# Exercises: Day 1"
      ],
      "metadata": {
        "id": "UfRwUdPud8Po"
      }
    },
    {
      "cell_type": "markdown",
      "source": [
        "1) Create a variable router_name with the value \"R1\" and a variable ports with value 24. Print:\n",
        "\"Router R1 has 24 ports\" using an f-string."
      ],
      "metadata": {
        "id": "04Pb8eNSeDWG"
      }
    },
    {
      "cell_type": "code",
      "source": [],
      "metadata": {
        "id": "Sx3OAM2hkLyq"
      },
      "execution_count": null,
      "outputs": []
    },
    {
      "cell_type": "markdown",
      "source": [
        "2) Create a list latencies containing three ping times: 10.5, 20.3, and 15.7.\n",
        "\n",
        " - Print the first latency.\n",
        "\n",
        " - Print the average latency."
      ],
      "metadata": {
        "id": "pYH-dURfnTRN"
      }
    },
    {
      "cell_type": "code",
      "source": [],
      "metadata": {
        "id": "8VYbvDaCkNRe"
      },
      "execution_count": null,
      "outputs": []
    },
    {
      "cell_type": "markdown",
      "source": [
        "3) Create a dictionary device_info where:\n",
        "\n",
        " - Keys = device names (\"Router1\", \"Switch1\", \"Switch2\")\n",
        "\n",
        " - Values = lists containing their IP addresses (as strings).\n",
        "\n",
        " - For Router1, use 2 IP Addreses (example: 'Router1': ['1.1.1.1', '2.2.2.2'])\n",
        "\n",
        "Then:\n",
        "\n",
        " - Ask the user to enter a device name.\n",
        "\n",
        " - Select the last octet of its first IP address using string split() method and convert to int\n",
        "\n",
        " - Print the octet and the type (hint! for proof use type())\n"
      ],
      "metadata": {
        "id": "YhkEce7LnYkQ"
      }
    },
    {
      "cell_type": "code",
      "source": [],
      "metadata": {
        "id": "UA4QpCQOkPiL"
      },
      "execution_count": null,
      "outputs": []
    },
    {
      "cell_type": "markdown",
      "source": [
        "# Homework: Day 1"
      ],
      "metadata": {
        "id": "h4oiy2CfYrpQ"
      }
    },
    {
      "cell_type": "markdown",
      "source": [
        "1) Create a dictionary of 3 devices, each having \"ip\", \"status\" (bool), and \"ports\" (int). Print the hostname of the device with the most ports.\n",
        "(Hint: Use a dictionary for devices, store the ports as integers, loop through the keys and compare values.)\n",
        "\n",
        "2) Create a list of 5 floats representing bandwidth usage. Convert it into a set to remove duplicates and print the result.\n",
        "(Hint: Use a list for starting values, the set() function to remove duplicates, and print() to show the result.)"
      ],
      "metadata": {
        "id": "FpjxKWGtcJpE"
      }
    },
    {
      "cell_type": "code",
      "source": [],
      "metadata": {
        "id": "UoG5YTy8cbmP"
      },
      "execution_count": null,
      "outputs": []
    },
    {
      "cell_type": "markdown",
      "source": [
        "# Exercises: Day 2"
      ],
      "metadata": {
        "id": "yRIDF95qo-9u"
      }
    },
    {
      "cell_type": "markdown",
      "source": [
        "1) Create a list of IP addresses.\n",
        "\n",
        "Loop through them, printing \"Pinging <IP>...\".\n",
        "If an IP is \"192.168.0.3\", print \"IP down\" and skip it using continue."
      ],
      "metadata": {
        "id": "jEow_40zpDOc"
      }
    },
    {
      "cell_type": "code",
      "source": [],
      "metadata": {
        "id": "BxkSXNq7pTGB"
      },
      "execution_count": null,
      "outputs": []
    },
    {
      "cell_type": "markdown",
      "source": [
        "2) Use a while loop to simulate checking switch CPU load:\n",
        "\n",
        " - Start from 10% and increase by 10 each iteration.\n",
        "\n",
        " - Print the load each time.\n",
        "\n",
        " - Stop the loop if load exceeds 80% (use break)."
      ],
      "metadata": {
        "id": "BbbpSokvpTmn"
      }
    },
    {
      "cell_type": "code",
      "source": [],
      "metadata": {
        "id": "9uGadk03pYgb"
      },
      "execution_count": null,
      "outputs": []
    },
    {
      "cell_type": "markdown",
      "source": [
        "3) Write a function calculate_bandwidth(download, upload) that returns the sum of both speeds.\n",
        "\n",
        "\n",
        "Call the function with 50 and 20 and print:\n",
        "\"Total bandwidth: 70 Mbps\"."
      ],
      "metadata": {
        "id": "UbYGU3xBpY48"
      }
    },
    {
      "cell_type": "code",
      "source": [],
      "metadata": {
        "id": "QTGJgB5spd64"
      },
      "execution_count": null,
      "outputs": []
    },
    {
      "cell_type": "markdown",
      "source": [
        "4) Write a function is_fast(latency) that returns True if latency < 50, otherwise False.\n",
        "\n",
        "\n",
        "Use a loop to check 3 latencies and print \"Fast\" or \"Slow\" for each."
      ],
      "metadata": {
        "id": "UzZv0qacpeX8"
      }
    },
    {
      "cell_type": "code",
      "source": [],
      "metadata": {
        "id": "-1ewfxVBpiEH"
      },
      "execution_count": null,
      "outputs": []
    },
    {
      "cell_type": "markdown",
      "source": [
        "# Homework: Day 2"
      ],
      "metadata": {
        "id": "o3XwXmgMplxo"
      }
    },
    {
      "cell_type": "markdown",
      "source": [
        "1) Write a function that takes a list of IPs and prints only the ones that start with \"192.168\". Use a for loop and continue.\n",
        "\n",
        "2) Write a function that asks the user to enter device names until they type \"stop\". Store all names in a list and print the list at the end."
      ],
      "metadata": {
        "id": "JxXl4eZ0ppwD"
      }
    },
    {
      "cell_type": "code",
      "source": [],
      "metadata": {
        "id": "pL_Rg-b5ptx4"
      },
      "execution_count": null,
      "outputs": []
    },
    {
      "cell_type": "markdown",
      "source": [
        "# Exercises: Day 3"
      ],
      "metadata": {
        "id": "4Uv70NILqIfT"
      }
    },
    {
      "cell_type": "markdown",
      "source": [
        "1) Create a class Device with attributes hostname and ip.\n",
        "\n",
        "Make an object router with \"R1\" and \"192.168.1.1\". Print its attributes."
      ],
      "metadata": {
        "id": "UUCxF62RqJvl"
      }
    },
    {
      "cell_type": "code",
      "source": [],
      "metadata": {
        "id": "358upkVMqOF4"
      },
      "execution_count": null,
      "outputs": []
    },
    {
      "cell_type": "markdown",
      "source": [
        "2) Add a method ping() to the Device class that prints \"Pinging <ip>...\".\n",
        "\n",
        "Create two objects (Switch1, Switch2) and call ping() for both."
      ],
      "metadata": {
        "id": "1jxsBjAEqOwq"
      }
    },
    {
      "cell_type": "code",
      "source": [],
      "metadata": {
        "id": "EQo5YTUeqS7-"
      },
      "execution_count": null,
      "outputs": []
    },
    {
      "cell_type": "markdown",
      "source": [
        "3) Create two classes:\n",
        "\n",
        " - Router with method info() printing \"This is a router\"\n",
        "\n",
        " - Switch with method info() printing \"This is a switch\"\n",
        "Loop through a list containing both objects and call .info() — see how they behave differently."
      ],
      "metadata": {
        "id": "nVWjixqWqTc7"
      }
    },
    {
      "cell_type": "code",
      "source": [],
      "metadata": {
        "id": "TNm2spFcqXt4"
      },
      "execution_count": null,
      "outputs": []
    },
    {
      "cell_type": "markdown",
      "source": [
        "4) Create a parent class NetworkDevice with attributes hostname and ip.\n",
        "\n",
        "Create a child class Switch that adds an attribute ports.\n",
        "\n",
        "Make an object Switch1 with \"SW1\", \"192.168.0.1\", 24 ports.\n",
        "\n",
        "Write a method that prints \"Switch SW1 has 24 ports\"."
      ],
      "metadata": {
        "id": "DHB0Emn-qYPv"
      }
    },
    {
      "cell_type": "code",
      "source": [],
      "metadata": {
        "id": "MmaDrX1_qinL"
      },
      "execution_count": null,
      "outputs": []
    },
    {
      "cell_type": "markdown",
      "source": [
        "# Homework: Day 3"
      ],
      "metadata": {
        "id": "Fqjs_vJoqlJA"
      }
    },
    {
      "cell_type": "markdown",
      "source": [
        "1) TRY to create a testbed with the corresponding configurations for your devices (important).\n",
        "\n",
        "2) Create a parent class NetworkDevice with a method status() that returns \"Up\". Create two child classes Router and Switch that override status() with different messages. Create a list of mixed devices and loop through them calling .status()."
      ],
      "metadata": {
        "id": "1tE8H1kDqmPr"
      }
    },
    {
      "cell_type": "code",
      "source": [],
      "metadata": {
        "id": "alnCuoykqrvv"
      },
      "execution_count": null,
      "outputs": []
    }
  ]
}